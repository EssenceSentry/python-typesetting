{
 "cells": [
  {
   "cell_type": "markdown",
   "metadata": {},
   "source": [
    "# TypeAlias\n",
    "\n",
    "TypeAlias explicitly states that this is a type alias declaration, not a normal variable assignment.\n"
   ]
  },
  {
   "cell_type": "code",
   "execution_count": 1,
   "metadata": {},
   "outputs": [],
   "source": [
    "from typing import TypeAlias"
   ]
  },
  {
   "cell_type": "code",
   "execution_count": 2,
   "metadata": {},
   "outputs": [],
   "source": [
    "# `Vector` and `list[float]` are synonyms.\n",
    "Vector: TypeAlias = list[float]\n",
    "\n",
    "# A list of floats qualifies as a Vector.\n",
    "new_vector: Vector = [1.0, -4.2, 5.4]"
   ]
  },
  {
   "cell_type": "markdown",
   "metadata": {},
   "source": [
    "Type aliases are useful for simplifying complex type signatures:\n"
   ]
  },
  {
   "cell_type": "code",
   "execution_count": 3,
   "metadata": {},
   "outputs": [],
   "source": [
    "# Import Sequence from `collections.abc`, not from `typing`\n",
    "from collections.abc import Sequence\n",
    "\n",
    "\n",
    "ConnectionOptions = dict[str, str]\n",
    "Address = tuple[str, int]\n",
    "Server = tuple[Address, ConnectionOptions]\n",
    "\n",
    "\n",
    "def broadcast_message_with_alias(\n",
    "    message: str,\n",
    "    servers: Sequence[Server],\n",
    ") -> None:\n",
    "    ...\n",
    "\n",
    "\n",
    "def broadcast_message_without_alias(\n",
    "    message: str,\n",
    "    servers: Sequence[tuple[tuple[str, int], dict[str, str]]],\n",
    ") -> None:\n",
    "    ..."
   ]
  },
  {
   "cell_type": "markdown",
   "metadata": {},
   "source": [
    "# NewType\n",
    "\n",
    "- With `NewType`, you create a new type, not a synonym.\n",
    "\n",
    "- Useful in catching logical errors.\n"
   ]
  },
  {
   "cell_type": "code",
   "execution_count": 4,
   "metadata": {},
   "outputs": [
    {
     "name": "stderr",
     "output_type": "stream",
     "text": [
      "Runtime type is 'int'\n"
     ]
    },
    {
     "data": {
      "text/plain": [
       "77754"
      ]
     },
     "execution_count": 4,
     "metadata": {},
     "output_type": "execute_result"
    }
   ],
   "source": [
    "from typing import NewType, reveal_type\n",
    "\n",
    "# `UserId` is for the type checker a subclass of `int`\n",
    "UserId = NewType(\"UserId\", int)\n",
    "some_id = UserId(524313)\n",
    "\n",
    "\n",
    "def get_user_name(user_id: UserId) -> str:\n",
    "    return \"user\"\n",
    "\n",
    "\n",
    "# OK: `UserId` is passed\n",
    "user_a = get_user_name(UserId(42351))\n",
    "\n",
    "# FAIL: `int` is not `UserId`\n",
    "user_b = get_user_name(-1)\n",
    "\n",
    "\n",
    "# Operating on `UserId`s returns `int`\n",
    "output = UserId(23413) + UserId(54341)\n",
    "reveal_type(output)"
   ]
  },
  {
   "cell_type": "code",
   "execution_count": 5,
   "metadata": {},
   "outputs": [],
   "source": [
    "# This is True, because `UserId` is a subclass of `int` only to the type checker\n",
    "assert 32 == UserId(32)"
   ]
  },
  {
   "cell_type": "markdown",
   "metadata": {},
   "source": [
    "Trying to subclasss a `NewType` is an error. `UserId` is marked as final.\n"
   ]
  },
  {
   "cell_type": "code",
   "execution_count": 7,
   "metadata": {},
   "outputs": [
    {
     "name": "stdout",
     "output_type": "stream",
     "text": [
      "Cannot subclass an instance of NewType. Perhaps you were looking for: `AdminUserId = NewType('AdminUserId', UserId)`\n"
     ]
    }
   ],
   "source": [
    "try:\n",
    "\n",
    "    class AdminUserId(UserId):\n",
    "        pass\n",
    "\n",
    "except TypeError as e:\n",
    "    print(e)"
   ]
  },
  {
   "cell_type": "markdown",
   "metadata": {},
   "source": [
    "But we can create a derived `NewType`:\n"
   ]
  },
  {
   "cell_type": "code",
   "execution_count": 8,
   "metadata": {},
   "outputs": [],
   "source": [
    "AdminUserId = NewType(\"AdminUserId\", UserId)"
   ]
  }
 ],
 "metadata": {
  "kernelspec": {
   "display_name": ".venv",
   "language": "python",
   "name": "python3"
  },
  "language_info": {
   "codemirror_mode": {
    "name": "ipython",
    "version": 3
   },
   "file_extension": ".py",
   "mimetype": "text/x-python",
   "name": "python",
   "nbconvert_exporter": "python",
   "pygments_lexer": "ipython3",
   "version": "3.11.4"
  }
 },
 "nbformat": 4,
 "nbformat_minor": 2
}
