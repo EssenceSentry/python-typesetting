{
 "cells": [
  {
   "cell_type": "markdown",
   "id": "f012cfde",
   "metadata": {},
   "source": [
    "<div style=\"background-color: #a2e8dd; border-radius: 10px; padding: 20px; margin-top: 10px; margin-bottom: 10px\"><strong>See also</strong>\n",
    "\n",
    "<a href=\"https://mypy.readthedocs.io/en/stable/cheat_sheet_py3.html\">“Typing cheat sheet”</a>A quick overview of type hints (hosted at the mypy docs)\n",
    "\n",
    "“Type System Reference” section of <a href=\"https://mypy.readthedocs.io/en/stable/index.html\">the mypy docs</a>The Python typing system is standardised via PEPs, so this reference\n",
    "should broadly apply to most Python type checkers. (Some parts may still\n",
    "be specific to mypy.)\n",
    "\n",
    "<a href=\"https://typing.readthedocs.io/en/latest/\">“Static Typing with Python”</a>Type-checker-agnostic documentation written by the community detailing\n",
    "type system features, useful typing related tools and typing best\n",
    "practices.</div>\n"
   ]
  },
  {
   "cell_type": "markdown",
   "id": "666f11ba",
   "metadata": {},
   "source": [
    "# Relevant PEPs[¶](#relevant-peps)\n",
    "\n",
    "Since the initial introduction of type hints in [PEP 484](https://peps.python.org/pep-0484/) and [PEP 483](https://peps.python.org/pep-0483/), a number of PEPs have modified and enhanced Python's framework for type annotations:\n",
    "\n",
    "[The full list of PEPs](None)\n",
    "\n",
    "- [PEP 526](https://peps.python.org/pep-0526/): Syntax for Variable AnnotationsIntroducing syntax for annotating variables outside of function definitions, and [ClassVar](#typing.ClassVar)\n",
    "\n",
    "- [PEP 544](https://peps.python.org/pep-0544/): Protocols: Structural subtyping (static duck typing)Introducing [Protocol](#typing.Protocol) and the [@runtime_checkable](#typing.runtime_checkable) decorator\n",
    "\n",
    "- [PEP 585](https://peps.python.org/pep-0585/): Type Hinting Generics In Standard CollectionsIntroducing [types.GenericAlias](types.html#types.GenericAlias) and the ability to use standard library classes as [generic types](stdtypes.html#types-genericalias)\n",
    "\n",
    "- [PEP 586](https://peps.python.org/pep-0586/): Literal TypesIntroducing [Literal](#typing.Literal)\n",
    "\n",
    "- [PEP 589](https://peps.python.org/pep-0589/): TypedDict: Type Hints for Dictionaries with a Fixed Set of KeysIntroducing [TypedDict](#typing.TypedDict)\n",
    "\n",
    "- [PEP 591](https://peps.python.org/pep-0591/): Adding a final qualifier to typingIntroducing [Final](#typing.Final) and the [@final](#typing.final) decorator\n",
    "\n",
    "- [PEP 593](https://peps.python.org/pep-0593/): Flexible function and variable annotationsIntroducing [Annotated](#typing.Annotated)\n",
    "\n",
    "- [PEP 604](https://peps.python.org/pep-0604/): Allow writing union types as `X | Y`Introducing [types.UnionType](types.html#types.UnionType) and the ability to use the binary-or operator `|` to signify a [union of types](stdtypes.html#types-union)\n",
    "\n",
    "- [PEP 612](https://peps.python.org/pep-0612/): Parameter Specification VariablesIntroducing [ParamSpec](#typing.ParamSpec) and [Concatenate](#typing.Concatenate)\n",
    "\n",
    "- [PEP 613](https://peps.python.org/pep-0613/): Explicit Type AliasesIntroducing [TypeAlias](#typing.TypeAlias)\n",
    "\n",
    "- [PEP 646](https://peps.python.org/pep-0646/): Variadic GenericsIntroducing [TypeVarTuple](#typing.TypeVarTuple)\n",
    "\n",
    "- [PEP 647](https://peps.python.org/pep-0647/): User-Defined Type GuardsIntroducing [TypeGuard](#typing.TypeGuard)\n",
    "\n",
    "- [PEP 655](https://peps.python.org/pep-0655/): Marking individual TypedDict items as required or potentially missingIntroducing [Required](#typing.Required) and [NotRequired](#typing.NotRequired)\n",
    "\n",
    "- [PEP 673](https://peps.python.org/pep-0673/): Self typeIntroducing [Self](#typing.Self)\n",
    "\n",
    "- [PEP 675](https://peps.python.org/pep-0675/): Arbitrary Literal String TypeIntroducing [LiteralString](#typing.LiteralString)\n",
    "\n",
    "- [PEP 681](https://peps.python.org/pep-0681/): Data Class TransformsIntroducing the [@dataclass_transform](#typing.dataclass_transform) decorator\n"
   ]
  },
  {
   "cell_type": "markdown",
   "id": "b9f549dd",
   "metadata": {},
   "source": [
    "# Type aliases[¶](#type-aliases)\n",
    "\n",
    "A type alias is defined by assigning the type to the alias. In this example, `Vector` and `list[float]` will be treated as interchangeable synonyms:\n"
   ]
  },
  {
   "cell_type": "code",
   "execution_count": 1,
   "id": "051915b9",
   "metadata": {},
   "outputs": [],
   "source": [
    "Vector = list[float]\n",
    "\n",
    "\n",
    "def scale(scalar: float, vector: Vector) -> Vector:\n",
    "    return [scalar * num for num in vector]\n",
    "\n",
    "\n",
    "# passes type checking; a list of floats qualifies as a Vector.\n",
    "new_vector = scale(2.0, [1.0, -4.2, 5.4])"
   ]
  },
  {
   "cell_type": "markdown",
   "id": "b14bf18e",
   "metadata": {},
   "source": [
    "Type aliases are useful for simplifying complex type signatures. For example:\n"
   ]
  },
  {
   "cell_type": "code",
   "execution_count": 2,
   "id": "87e45bd0",
   "metadata": {},
   "outputs": [],
   "source": [
    "from collections.abc import Sequence\n",
    "\n",
    "ConnectionOptions = dict[str, str]\n",
    "Address = tuple[str, int]\n",
    "Server = tuple[Address, ConnectionOptions]\n",
    "\n",
    "\n",
    "def broadcast_message(message: str, servers: Sequence[Server]) -> None:\n",
    "    ...\n",
    "\n",
    "\n",
    "# The static type checker will treat the previous type signature as\n",
    "# being exactly equivalent to this one.\n",
    "def broadcast_message(\n",
    "    message: str, servers: Sequence[tuple[tuple[str, int], dict[str, str]]]\n",
    ") -> None:\n",
    "    ..."
   ]
  },
  {
   "cell_type": "markdown",
   "id": "f8b36640",
   "metadata": {},
   "source": [
    "Type aliases may be marked with [TypeAlias](#typing.TypeAlias) to make it explicit that the statement is a type alias declaration, not a normal variable assignment:\n"
   ]
  },
  {
   "cell_type": "code",
   "execution_count": 3,
   "id": "f8a48f6c",
   "metadata": {},
   "outputs": [],
   "source": [
    "from typing import TypeAlias\n",
    "\n",
    "Vector: TypeAlias = list[float]"
   ]
  },
  {
   "cell_type": "markdown",
   "id": "c0c98212",
   "metadata": {},
   "source": [
    "# NewType[¶](#newtype)\n",
    "\n",
    "Use the [NewType](#typing.NewType) helper to create distinct types:\n"
   ]
  },
  {
   "cell_type": "code",
   "execution_count": 4,
   "id": "daeb0836",
   "metadata": {},
   "outputs": [],
   "source": [
    "from typing import NewType\n",
    "\n",
    "UserId = NewType(\"UserId\", int)\n",
    "some_id = UserId(524313)"
   ]
  },
  {
   "cell_type": "markdown",
   "id": "96286c03",
   "metadata": {},
   "source": [
    "The static type checker will treat the new type as if it were a subclass of the original type. This is useful in helping catch logical errors:\n"
   ]
  },
  {
   "cell_type": "code",
   "execution_count": 5,
   "id": "b9125426",
   "metadata": {},
   "outputs": [],
   "source": [
    "def get_user_name(user_id: UserId) -> str:\n",
    "    ...\n",
    "\n",
    "\n",
    "# passes type checking\n",
    "user_a = get_user_name(UserId(42351))\n",
    "\n",
    "# fails type checking; an int is not a UserId\n",
    "user_b = get_user_name(-1)"
   ]
  },
  {
   "cell_type": "markdown",
   "id": "a4c8b2a4",
   "metadata": {},
   "source": [
    "You may still perform all `int` operations on a variable of type `UserId`, but the result will always be of type `int`. This lets you pass in a `UserId` wherever an `int` might be expected, but will prevent you from accidentally creating a `UserId` in an invalid way:\n"
   ]
  },
  {
   "cell_type": "code",
   "execution_count": 7,
   "id": "1b8f097a",
   "metadata": {},
   "outputs": [
    {
     "data": {
      "text/plain": [
       "int"
      ]
     },
     "execution_count": 7,
     "metadata": {},
     "output_type": "execute_result"
    }
   ],
   "source": [
    "# 'output' is of type 'int', not 'UserId'\n",
    "output = UserId(23413) + UserId(54341)\n",
    "type(output)"
   ]
  },
  {
   "cell_type": "markdown",
   "id": "31928222",
   "metadata": {},
   "source": [
    "Note that these checks are enforced only by the static type checker. At runtime, the statement `Derived = NewType('Derived', Base)` will make `Derived` a callable that immediately returns whatever parameter you pass it. That means the expression `Derived(some_value)` does not create a new class or introduce much overhead beyond that of a regular function call. More precisely, the expression `some_value is Derived(some_value)` is always true at runtime. It is invalid to create a subtype of `Derived`:\n"
   ]
  },
  {
   "cell_type": "code",
   "execution_count": 8,
   "id": "00733c7d",
   "metadata": {},
   "outputs": [
    {
     "name": "stderr",
     "output_type": "stream",
     "text": [
      "<>:5: SyntaxWarning: \"is\" with a literal. Did you mean \"==\"?\n",
      "<>:5: SyntaxWarning: \"is\" with a literal. Did you mean \"==\"?\n",
      "/tmp/ipykernel_1229440/3793411902.py:5: SyntaxWarning: \"is\" with a literal. Did you mean \"==\"?\n",
      "  32 is UserId(32)\n"
     ]
    },
    {
     "data": {
      "text/plain": [
       "True"
      ]
     },
     "execution_count": 8,
     "metadata": {},
     "output_type": "execute_result"
    }
   ],
   "source": [
    "from typing import NewType\n",
    "\n",
    "UserId = NewType(\"UserId\", int)\n",
    "\n",
    "32 is UserId(32)"
   ]
  },
  {
   "cell_type": "code",
   "execution_count": 9,
   "id": "72b08f8c",
   "metadata": {},
   "outputs": [
    {
     "ename": "TypeError",
     "evalue": "Cannot subclass an instance of NewType. Perhaps you were looking for: `AdminUserId = NewType('AdminUserId', UserId)`",
     "output_type": "error",
     "traceback": [
      "\u001b[0;31m---------------------------------------------------------------------------\u001b[0m",
      "\u001b[0;31mTypeError\u001b[0m                                 Traceback (most recent call last)",
      "\u001b[1;32m/home/agus/Repos/inference/notebooks/type_hints.ipynb Cell 17\u001b[0m line \u001b[0;36m2\n\u001b[1;32m      <a href='vscode-notebook-cell:/home/agus/Repos/inference/notebooks/type_hints.ipynb#Y560sZmlsZQ%3D%3D?line=0'>1</a>\u001b[0m \u001b[39m# Fails at runtime and does not pass type checking\u001b[39;00m\n\u001b[0;32m----> <a href='vscode-notebook-cell:/home/agus/Repos/inference/notebooks/type_hints.ipynb#Y560sZmlsZQ%3D%3D?line=1'>2</a>\u001b[0m \u001b[39mclass\u001b[39;49;00m \u001b[39mAdminUserId\u001b[39;49;00m(UserId):\n\u001b[1;32m      <a href='vscode-notebook-cell:/home/agus/Repos/inference/notebooks/type_hints.ipynb#Y560sZmlsZQ%3D%3D?line=2'>3</a>\u001b[0m     \u001b[39mpass\u001b[39;49;00m\n",
      "File \u001b[0;32m~/.pyenv/versions/3.11.4/lib/python3.11/typing.py:3153\u001b[0m, in \u001b[0;36mNewType.__mro_entries__.<locals>.Dummy.__init_subclass__\u001b[0;34m(cls)\u001b[0m\n\u001b[1;32m   3151\u001b[0m \u001b[39mdef\u001b[39;00m \u001b[39m__init_subclass__\u001b[39m(\u001b[39mcls\u001b[39m):\n\u001b[1;32m   3152\u001b[0m     subclass_name \u001b[39m=\u001b[39m \u001b[39mcls\u001b[39m\u001b[39m.\u001b[39m\u001b[39m__name__\u001b[39m\n\u001b[0;32m-> 3153\u001b[0m     \u001b[39mraise\u001b[39;00m \u001b[39mTypeError\u001b[39;00m(\n\u001b[1;32m   3154\u001b[0m         \u001b[39mf\u001b[39m\u001b[39m\"\u001b[39m\u001b[39mCannot subclass an instance of NewType. Perhaps you were looking for: \u001b[39m\u001b[39m\"\u001b[39m\n\u001b[1;32m   3155\u001b[0m         \u001b[39mf\u001b[39m\u001b[39m\"\u001b[39m\u001b[39m`\u001b[39m\u001b[39m{\u001b[39;00msubclass_name\u001b[39m}\u001b[39;00m\u001b[39m = NewType(\u001b[39m\u001b[39m{\u001b[39;00msubclass_name\u001b[39m!r}\u001b[39;00m\u001b[39m, \u001b[39m\u001b[39m{\u001b[39;00msuperclass_name\u001b[39m}\u001b[39;00m\u001b[39m)`\u001b[39m\u001b[39m\"\u001b[39m\n\u001b[1;32m   3156\u001b[0m     )\n",
      "\u001b[0;31mTypeError\u001b[0m: Cannot subclass an instance of NewType. Perhaps you were looking for: `AdminUserId = NewType('AdminUserId', UserId)`"
     ]
    }
   ],
   "source": [
    "# Fails at runtime and does not pass type checking\n",
    "class AdminUserId(UserId):\n",
    "    pass"
   ]
  },
  {
   "cell_type": "markdown",
   "id": "d1d8fe9f",
   "metadata": {},
   "source": [
    "However, it is possible to create a [NewType](#typing.NewType) based on a 'derived' `NewType`:\n"
   ]
  },
  {
   "cell_type": "code",
   "execution_count": 10,
   "id": "aa9db9a7",
   "metadata": {},
   "outputs": [],
   "source": [
    "from typing import NewType\n",
    "\n",
    "UserId = NewType(\"UserId\", int)\n",
    "\n",
    "ProUserId = NewType(\"ProUserId\", UserId)"
   ]
  },
  {
   "cell_type": "markdown",
   "id": "b1c0cced",
   "metadata": {},
   "source": [
    "# Annotating callable objects[¶](#annotating-callable-objects)\n",
    "\n",
    "Functions – or other [callable](../glossary.html#term-callable) objects – can be annotated using [collections.abc.Callable](collections.abc.html#collections.abc.Callable) or [typing.Callable](#typing.Callable). `Callable[[int], str]` signifies a function that takes a single parameter of type [int](functions.html#int) and returns a [str](stdtypes.html#str). For example:\n"
   ]
  },
  {
   "cell_type": "code",
   "execution_count": 11,
   "id": "2d6a8436",
   "metadata": {},
   "outputs": [],
   "source": [
    "from collections.abc import Callable, Awaitable\n",
    "\n",
    "\n",
    "def feeder(get_next_item: Callable[[], str]) -> None:\n",
    "    ...  # Body\n",
    "\n",
    "\n",
    "def async_query(\n",
    "    on_success: Callable[[int], None], on_error: Callable[[int, Exception], None]\n",
    ") -> None:\n",
    "    ...  # Body\n",
    "\n",
    "\n",
    "async def on_update(value: str) -> None:\n",
    "    ...  # Body\n",
    "\n",
    "\n",
    "callback: Callable[[str], Awaitable[None]] = on_update"
   ]
  },
  {
   "cell_type": "markdown",
   "id": "fad179f3",
   "metadata": {},
   "source": [
    "The subscription syntax must always be used with exactly two values: the argument list and the return type. The argument list must be a list of types, a [ParamSpec](#typing.ParamSpec), [Concatenate](#typing.Concatenate), or an ellipsis. The return type must be a single type. If a literal ellipsis `...` is given as the argument list, it indicates that a callable with any arbitrary parameter list would be acceptable:\n"
   ]
  },
  {
   "cell_type": "code",
   "execution_count": 12,
   "id": "c0b2a1e5",
   "metadata": {},
   "outputs": [],
   "source": [
    "def concat(x: str, y: str) -> str:\n",
    "    return x + y\n",
    "\n",
    "\n",
    "x: Callable[..., str]\n",
    "x = str  # OK\n",
    "x = concat  # Also OK"
   ]
  },
  {
   "cell_type": "markdown",
   "id": "130ff785",
   "metadata": {},
   "source": [
    "`Callable` cannot express complex signatures such as functions that take a variadic number of arguments, [overloaded functions](#typing.overload), or functions that have keyword-only parameters. However, these signatures can be expressed by defining a [Protocol](#typing.Protocol) class with a [**call**()](../reference/datamodel.html#object.__call__) method:\n"
   ]
  },
  {
   "cell_type": "code",
   "execution_count": 13,
   "id": "4c0e3cfc",
   "metadata": {},
   "outputs": [],
   "source": [
    "from collections.abc import Iterable\n",
    "from typing import Protocol\n",
    "\n",
    "\n",
    "class Combiner(Protocol):\n",
    "    def __call__(self, *vals: bytes, maxlen: int | None = None) -> list[bytes]:\n",
    "        ...\n",
    "\n",
    "\n",
    "def batch_proc(data: Iterable[bytes], cb_results: Combiner) -> bytes:\n",
    "    for _ in data:\n",
    "        ...\n",
    "\n",
    "\n",
    "def good_cb(*vals: bytes, maxlen: int | None = None) -> list[bytes]:\n",
    "    ...\n",
    "\n",
    "\n",
    "def bad_cb(*vals: bytes, maxitems: int | None) -> list[bytes]:\n",
    "    ...\n",
    "\n",
    "\n",
    "batch_proc([], good_cb)  # OK\n",
    "batch_proc([], bad_cb)  # Error! Argument 2 has incompatible type because of\n",
    "# different name and kind in the callback"
   ]
  },
  {
   "cell_type": "markdown",
   "id": "c626f1cd",
   "metadata": {},
   "source": [
    "# Generics[¶](#generics)\n",
    "\n",
    "Since type information about objects kept in containers cannot be statically inferred in a generic way, many container classes in the standard library support subscription to denote the expected types of container elements.\n"
   ]
  },
  {
   "cell_type": "code",
   "execution_count": 14,
   "id": "6069ce81",
   "metadata": {},
   "outputs": [],
   "source": [
    "from collections.abc import Mapping, Sequence\n",
    "\n",
    "\n",
    "class Employee:\n",
    "    ...\n",
    "\n",
    "\n",
    "# Sequence[Employee] indicates that all elements in the sequence\n",
    "# must be instances of \"Employee\".\n",
    "# Mapping[str, str] indicates that all keys and all values in the mapping\n",
    "# must be strings.\n",
    "def notify_by_email(\n",
    "    employees: Sequence[Employee], overrides: Mapping[str, str]\n",
    ") -> None:\n",
    "    ..."
   ]
  },
  {
   "cell_type": "markdown",
   "id": "f836a870",
   "metadata": {},
   "source": [
    "Generics can be parameterized by using a factory available in typing called [TypeVar](#typing.TypeVar).\n"
   ]
  },
  {
   "cell_type": "code",
   "execution_count": 15,
   "id": "1f5736dc",
   "metadata": {},
   "outputs": [],
   "source": [
    "from collections.abc import Sequence\n",
    "from typing import TypeVar\n",
    "\n",
    "T = TypeVar(\"T\")  # Declare type variable \"T\"\n",
    "\n",
    "\n",
    "def first(l: Sequence[T]) -> T:  # Function is generic over the TypeVar \"T\"\n",
    "    return l[0]"
   ]
  },
  {
   "cell_type": "markdown",
   "id": "aacecc85",
   "metadata": {},
   "source": [
    "# Annotating tuples[¶](#annotating-tuples)\n",
    "\n",
    "For most containers in Python, the typing system assumes that all elements in the container will be of the same type. For example:\n"
   ]
  },
  {
   "cell_type": "code",
   "execution_count": 16,
   "id": "53ac4e04",
   "metadata": {},
   "outputs": [],
   "source": [
    "from collections.abc import Mapping\n",
    "\n",
    "# Type checker will infer that all elements in ``x`` are meant to be ints\n",
    "x: list[int] = []\n",
    "\n",
    "# Type checker error: ``list`` only accepts a single type argument:\n",
    "y: list[int, str] = [1, \"foo\"]\n",
    "\n",
    "# Type checker will infer that all keys in ``z`` are meant to be strings,\n",
    "# and that all values in ``z`` are meant to be either strings or ints\n",
    "z: Mapping[str, str | int] = {}"
   ]
  },
  {
   "cell_type": "markdown",
   "id": "3798bc1d",
   "metadata": {},
   "source": [
    "[list](stdtypes.html#list) only accepts one type argument, so a type checker would emit an error on the `y` assignment above. Similarly, [Mapping](collections.abc.html#collections.abc.Mapping) only accepts two type arguments: the first indicates the type of the keys, and the second indicates the type of the values. Unlike most other Python containers, however, it is common in idiomatic Python code for tuples to have elements which are not all of the same type. For this reason, tuples are special-cased in Python's typing system. [tuple](stdtypes.html#tuple) accepts _any number_ of type arguments:\n"
   ]
  },
  {
   "cell_type": "code",
   "execution_count": 17,
   "id": "b716be59",
   "metadata": {},
   "outputs": [],
   "source": [
    "# OK: ``x`` is assigned to a tuple of length 1 where the sole element is an int\n",
    "x: tuple[int] = (5,)\n",
    "\n",
    "# OK: ``y`` is assigned to a tuple of length 2;\n",
    "# element 1 is an int, element 2 is a str\n",
    "y: tuple[int, str] = (5, \"foo\")\n",
    "\n",
    "# Error: the type annotation indicates a tuple of length 1,\n",
    "# but ``z`` has been assigned to a tuple of length 3\n",
    "z: tuple[int] = (1, 2, 3)"
   ]
  },
  {
   "cell_type": "markdown",
   "id": "50143687",
   "metadata": {},
   "source": [
    "To denote a tuple which could be of _any_ length, and in which all elements are of the same type `T`, use `tuple[T, ...]`. To denote an empty tuple, use `tuple[()]`. Using plain `tuple` as an annotation is equivalent to using `tuple[Any, ...]`:\n"
   ]
  },
  {
   "cell_type": "code",
   "execution_count": 18,
   "id": "d9256bc3",
   "metadata": {},
   "outputs": [],
   "source": [
    "x: tuple[int, ...] = (1, 2)\n",
    "# These reassignments are OK: ``tuple[int, ...]`` indicates x can be of any length\n",
    "x = (1, 2, 3)\n",
    "x = ()\n",
    "# This reassignment is an error: all elements in ``x`` must be ints\n",
    "x = (\"foo\", \"bar\")\n",
    "\n",
    "# ``y`` can only ever be assigned to an empty tuple\n",
    "y: tuple[()] = ()\n",
    "\n",
    "z: tuple = (\"foo\", \"bar\")\n",
    "# These reassignments are OK: plain ``tuple`` is equivalent to ``tuple[Any, ...]``\n",
    "z = (1, 2, 3)\n",
    "z = ()"
   ]
  },
  {
   "cell_type": "markdown",
   "id": "73313b03",
   "metadata": {},
   "source": [
    "# The type of class objects[¶](#the-type-of-class-objects)\n",
    "\n",
    "A variable annotated with `C` may accept a value of type `C`. In contrast, a variable annotated with `type[C]` (or [typing.Type[C]](#typing.Type)) may accept values that are classes themselves – specifically, it will accept the _class object_ of `C`. For example:\n"
   ]
  },
  {
   "cell_type": "code",
   "execution_count": 19,
   "id": "380be0c1",
   "metadata": {},
   "outputs": [],
   "source": [
    "a = 3  # Has type ``int``\n",
    "b = int  # Has type ``type[int]``\n",
    "c = type(a)  # Also has type ``type[int]``"
   ]
  },
  {
   "cell_type": "markdown",
   "id": "ad79f823",
   "metadata": {},
   "source": [
    "Note that `type[C]` is covariant:\n"
   ]
  },
  {
   "cell_type": "code",
   "execution_count": 20,
   "id": "d098a284",
   "metadata": {},
   "outputs": [
    {
     "ename": "TypeError",
     "evalue": "'User' object is not callable",
     "output_type": "error",
     "traceback": [
      "\u001b[0;31m---------------------------------------------------------------------------\u001b[0m",
      "\u001b[0;31mTypeError\u001b[0m                                 Traceback (most recent call last)",
      "\u001b[1;32m/home/agus/Repos/inference/notebooks/type_hints.ipynb Cell 39\u001b[0m line \u001b[0;36m2\n\u001b[1;32m     <a href='vscode-notebook-cell:/home/agus/Repos/inference/notebooks/type_hints.ipynb#X52sZmlsZQ%3D%3D?line=18'>19</a>\u001b[0m make_new_user(ProUser)  \u001b[39m# Also OK: ``type[ProUser]`` is a subtype of ``type[User]``\u001b[39;00m\n\u001b[1;32m     <a href='vscode-notebook-cell:/home/agus/Repos/inference/notebooks/type_hints.ipynb#X52sZmlsZQ%3D%3D?line=19'>20</a>\u001b[0m make_new_user(TeamUser)  \u001b[39m# Still fine\u001b[39;00m\n\u001b[0;32m---> <a href='vscode-notebook-cell:/home/agus/Repos/inference/notebooks/type_hints.ipynb#X52sZmlsZQ%3D%3D?line=20'>21</a>\u001b[0m make_new_user(User())  \u001b[39m# Error: expected ``type[User]`` but got ``User``\u001b[39;00m\n\u001b[1;32m     <a href='vscode-notebook-cell:/home/agus/Repos/inference/notebooks/type_hints.ipynb#X52sZmlsZQ%3D%3D?line=21'>22</a>\u001b[0m make_new_user(\u001b[39mint\u001b[39m)  \u001b[39m# Error: ``type[int]`` is not a subtype of ``type[User]``\u001b[39;00m\n",
      "\u001b[1;32m/home/agus/Repos/inference/notebooks/type_hints.ipynb Cell 39\u001b[0m line \u001b[0;36m1\n\u001b[1;32m     <a href='vscode-notebook-cell:/home/agus/Repos/inference/notebooks/type_hints.ipynb#X52sZmlsZQ%3D%3D?line=12'>13</a>\u001b[0m \u001b[39mdef\u001b[39;00m \u001b[39mmake_new_user\u001b[39m(user_class: \u001b[39mtype\u001b[39m[User]) \u001b[39m-\u001b[39m\u001b[39m>\u001b[39m User:\n\u001b[1;32m     <a href='vscode-notebook-cell:/home/agus/Repos/inference/notebooks/type_hints.ipynb#X52sZmlsZQ%3D%3D?line=13'>14</a>\u001b[0m     \u001b[39m# ...\u001b[39;00m\n\u001b[0;32m---> <a href='vscode-notebook-cell:/home/agus/Repos/inference/notebooks/type_hints.ipynb#X52sZmlsZQ%3D%3D?line=14'>15</a>\u001b[0m     \u001b[39mreturn\u001b[39;00m user_class()\n",
      "\u001b[0;31mTypeError\u001b[0m: 'User' object is not callable"
     ]
    }
   ],
   "source": [
    "class User:\n",
    "    ...\n",
    "\n",
    "\n",
    "class ProUser(User):\n",
    "    ...\n",
    "\n",
    "\n",
    "class TeamUser(User):\n",
    "    ...\n",
    "\n",
    "\n",
    "def make_new_user(user_class: type[User]) -> User:\n",
    "    # ...\n",
    "    return user_class()\n",
    "\n",
    "\n",
    "make_new_user(User)  # OK\n",
    "make_new_user(ProUser)  # Also OK: ``type[ProUser]`` is a subtype of ``type[User]``\n",
    "make_new_user(TeamUser)  # Still fine\n",
    "make_new_user(User())  # Error: expected ``type[User]`` but got ``User``\n",
    "make_new_user(int)  # Error: ``type[int]`` is not a subtype of ``type[User]``"
   ]
  },
  {
   "cell_type": "markdown",
   "id": "f30ba2a8",
   "metadata": {},
   "source": [
    "The only legal parameters for [type](functions.html#type) are classes, [Any](#typing.Any), [type variables](#generics), and unions of any of these types. For example:\n"
   ]
  },
  {
   "cell_type": "code",
   "execution_count": 21,
   "id": "18bb36ec",
   "metadata": {},
   "outputs": [],
   "source": [
    "class BasicUser(User):\n",
    "    ...\n",
    "\n",
    "\n",
    "def new_non_team_user(user_class: type[BasicUser | ProUser]):\n",
    "    ...\n",
    "\n",
    "\n",
    "new_non_team_user(BasicUser)  # OK\n",
    "new_non_team_user(ProUser)  # OK\n",
    "new_non_team_user(TeamUser)  # Error: ``type[TeamUser]`` is not a subtype\n",
    "# of ``type[BasicUser | ProUser]``\n",
    "new_non_team_user(User)  # Also an error"
   ]
  },
  {
   "cell_type": "markdown",
   "id": "5d44eb53",
   "metadata": {},
   "source": [
    "`type[Any]` is equivalent to [type](functions.html#type), which is the root of Python's [metaclass hierarchy](../reference/datamodel.html#metaclasses).\n"
   ]
  },
  {
   "cell_type": "markdown",
   "id": "76a3017a",
   "metadata": {},
   "source": [
    "# User-defined generic types[¶](#user-defined-generic-types)\n",
    "\n",
    "A user-defined class can be defined as a generic class.\n"
   ]
  },
  {
   "cell_type": "code",
   "execution_count": 22,
   "id": "13c9369f",
   "metadata": {},
   "outputs": [],
   "source": [
    "from typing import TypeVar, Generic\n",
    "from logging import Logger\n",
    "\n",
    "T = TypeVar(\"T\")\n",
    "\n",
    "\n",
    "class LoggedVar(Generic[T]):\n",
    "    def __init__(self, value: T, name: str, logger: Logger) -> None:\n",
    "        self.name = name\n",
    "        self.logger = logger\n",
    "        self.value = value\n",
    "\n",
    "    def set(self, new: T) -> None:\n",
    "        self.log(f\"Set {repr(self.value)}\")\n",
    "        self.value = new\n",
    "\n",
    "    def get(self) -> T:\n",
    "        self.log(f\"Get {repr(self.value)}\")\n",
    "        return self.value\n",
    "\n",
    "    def log(self, message: str) -> None:\n",
    "        self.logger.info(\"%s: %s\", self.name, message)"
   ]
  },
  {
   "cell_type": "markdown",
   "id": "5dab0265",
   "metadata": {},
   "source": [
    "`Generic[T]` as a base class defines that the class `LoggedVar` takes a single type parameter `T` . This also makes `T` valid as a type within the class body. The [Generic](#typing.Generic) base class defines [**class_getitem**()](../reference/datamodel.html#object.__class_getitem__) so that `LoggedVar[T]` is valid as a type:\n"
   ]
  },
  {
   "cell_type": "code",
   "execution_count": 23,
   "id": "229e4ea6",
   "metadata": {},
   "outputs": [],
   "source": [
    "from collections.abc import Iterable\n",
    "\n",
    "\n",
    "def zero_all_vars(vars: Iterable[LoggedVar[int]]) -> None:\n",
    "    for var in vars:\n",
    "        var.set(0)"
   ]
  },
  {
   "cell_type": "markdown",
   "id": "b802c0ae",
   "metadata": {},
   "source": [
    "A generic type can have any number of type variables. All varieties of [TypeVar](#typing.TypeVar) are permissible as parameters for a generic type:\n"
   ]
  },
  {
   "cell_type": "code",
   "execution_count": 24,
   "id": "0c3af34b",
   "metadata": {},
   "outputs": [],
   "source": [
    "from typing import TypeVar, Generic, Sequence\n",
    "\n",
    "T = TypeVar(\"T\", contravariant=True)\n",
    "B = TypeVar(\"B\", bound=Sequence[bytes], covariant=True)\n",
    "S = TypeVar(\"S\", int, str)\n",
    "\n",
    "\n",
    "class WeirdTrio(Generic[T, B, S]):\n",
    "    ..."
   ]
  },
  {
   "cell_type": "markdown",
   "id": "28de1b41",
   "metadata": {},
   "source": [
    "Each type variable argument to [Generic](#typing.Generic) must be distinct. This is thus invalid:\n"
   ]
  },
  {
   "cell_type": "code",
   "execution_count": 25,
   "id": "70e39f06",
   "metadata": {},
   "outputs": [
    {
     "ename": "TypeError",
     "evalue": "Parameters to Generic[...] must all be unique",
     "output_type": "error",
     "traceback": [
      "\u001b[0;31m---------------------------------------------------------------------------\u001b[0m",
      "\u001b[0;31mTypeError\u001b[0m                                 Traceback (most recent call last)",
      "\u001b[1;32m/home/agus/Repos/inference/notebooks/type_hints.ipynb Cell 50\u001b[0m line \u001b[0;36m8\n\u001b[1;32m      <a href='vscode-notebook-cell:/home/agus/Repos/inference/notebooks/type_hints.ipynb#X65sZmlsZQ%3D%3D?line=2'>3</a>\u001b[0m \u001b[39m.\u001b[39m\u001b[39m.\u001b[39m\u001b[39m.\u001b[39m\n\u001b[1;32m      <a href='vscode-notebook-cell:/home/agus/Repos/inference/notebooks/type_hints.ipynb#X65sZmlsZQ%3D%3D?line=4'>5</a>\u001b[0m T \u001b[39m=\u001b[39m TypeVar(\u001b[39m\"\u001b[39m\u001b[39mT\u001b[39m\u001b[39m\"\u001b[39m)\n\u001b[0;32m----> <a href='vscode-notebook-cell:/home/agus/Repos/inference/notebooks/type_hints.ipynb#X65sZmlsZQ%3D%3D?line=7'>8</a>\u001b[0m \u001b[39mclass\u001b[39;00m \u001b[39mPair\u001b[39;00m(Generic[T, T]):  \u001b[39m# INVALID\u001b[39;00m\n\u001b[1;32m      <a href='vscode-notebook-cell:/home/agus/Repos/inference/notebooks/type_hints.ipynb#X65sZmlsZQ%3D%3D?line=8'>9</a>\u001b[0m     \u001b[39m.\u001b[39m\u001b[39m.\u001b[39m\u001b[39m.\u001b[39m\n",
      "File \u001b[0;32m~/.pyenv/versions/3.11.4/lib/python3.11/typing.py:355\u001b[0m, in \u001b[0;36m_tp_cache.<locals>.decorator.<locals>.inner\u001b[0;34m(*args, **kwds)\u001b[0m\n\u001b[1;32m    353\u001b[0m \u001b[39mexcept\u001b[39;00m \u001b[39mTypeError\u001b[39;00m:\n\u001b[1;32m    354\u001b[0m     \u001b[39mpass\u001b[39;00m  \u001b[39m# All real errors (not unhashable args) are raised below.\u001b[39;00m\n\u001b[0;32m--> 355\u001b[0m \u001b[39mreturn\u001b[39;00m func(\u001b[39m*\u001b[39;49margs, \u001b[39m*\u001b[39;49m\u001b[39m*\u001b[39;49mkwds)\n",
      "File \u001b[0;32m~/.pyenv/versions/3.11.4/lib/python3.11/typing.py:1822\u001b[0m, in \u001b[0;36mGeneric.__class_getitem__\u001b[0;34m(cls, params)\u001b[0m\n\u001b[1;32m   1818\u001b[0m         \u001b[39mraise\u001b[39;00m \u001b[39mTypeError\u001b[39;00m(\n\u001b[1;32m   1819\u001b[0m             \u001b[39mf\u001b[39m\u001b[39m\"\u001b[39m\u001b[39mParameters to \u001b[39m\u001b[39m{\u001b[39;00m\u001b[39mcls\u001b[39m\u001b[39m.\u001b[39m\u001b[39m__name__\u001b[39m\u001b[39m}\u001b[39;00m\u001b[39m[...] must all be type variables \u001b[39m\u001b[39m\"\u001b[39m\n\u001b[1;32m   1820\u001b[0m             \u001b[39mf\u001b[39m\u001b[39m\"\u001b[39m\u001b[39mor parameter specification variables.\u001b[39m\u001b[39m\"\u001b[39m)\n\u001b[1;32m   1821\u001b[0m     \u001b[39mif\u001b[39;00m \u001b[39mlen\u001b[39m(\u001b[39mset\u001b[39m(params)) \u001b[39m!=\u001b[39m \u001b[39mlen\u001b[39m(params):\n\u001b[0;32m-> 1822\u001b[0m         \u001b[39mraise\u001b[39;00m \u001b[39mTypeError\u001b[39;00m(\n\u001b[1;32m   1823\u001b[0m             \u001b[39mf\u001b[39m\u001b[39m\"\u001b[39m\u001b[39mParameters to \u001b[39m\u001b[39m{\u001b[39;00m\u001b[39mcls\u001b[39m\u001b[39m.\u001b[39m\u001b[39m__name__\u001b[39m\u001b[39m}\u001b[39;00m\u001b[39m[...] must all be unique\u001b[39m\u001b[39m\"\u001b[39m)\n\u001b[1;32m   1824\u001b[0m \u001b[39melse\u001b[39;00m:\n\u001b[1;32m   1825\u001b[0m     \u001b[39m# Subscripting a regular Generic subclass.\u001b[39;00m\n\u001b[1;32m   1826\u001b[0m     \u001b[39mfor\u001b[39;00m param \u001b[39min\u001b[39;00m \u001b[39mcls\u001b[39m\u001b[39m.\u001b[39m__parameters__:\n",
      "\u001b[0;31mTypeError\u001b[0m: Parameters to Generic[...] must all be unique"
     ]
    }
   ],
   "source": [
    "from typing import TypeVar, Generic\n",
    "\n",
    "...\n",
    "\n",
    "T = TypeVar(\"T\")\n",
    "\n",
    "\n",
    "class Pair(Generic[T, T]):  # INVALID\n",
    "    ..."
   ]
  },
  {
   "cell_type": "markdown",
   "id": "8e1676cd",
   "metadata": {},
   "source": [
    "You can use multiple inheritance with [Generic](#typing.Generic):\n"
   ]
  },
  {
   "cell_type": "code",
   "execution_count": 26,
   "id": "699108bf",
   "metadata": {},
   "outputs": [],
   "source": [
    "from collections.abc import Sized\n",
    "from typing import TypeVar, Generic\n",
    "\n",
    "T = TypeVar(\"T\")\n",
    "\n",
    "\n",
    "class LinkedList(Sized, Generic[T]):\n",
    "    ..."
   ]
  },
  {
   "cell_type": "markdown",
   "id": "d7fca547",
   "metadata": {},
   "source": [
    "When inheriting from generic classes, some type parameters could be fixed:\n"
   ]
  },
  {
   "cell_type": "code",
   "execution_count": 27,
   "id": "32711817",
   "metadata": {},
   "outputs": [],
   "source": [
    "from collections.abc import Mapping\n",
    "from typing import TypeVar\n",
    "\n",
    "T = TypeVar(\"T\")\n",
    "\n",
    "\n",
    "class MyDict(Mapping[str, T]):\n",
    "    ..."
   ]
  },
  {
   "cell_type": "markdown",
   "id": "f2a1cd4e",
   "metadata": {},
   "source": [
    "In this case `MyDict` has a single parameter, `T`. Using a generic class without specifying type parameters assumes [Any](#typing.Any) for each position. In the following example, `MyIterable` is not generic but implicitly inherits from `Iterable[Any]`:\n"
   ]
  },
  {
   "cell_type": "code",
   "execution_count": 28,
   "id": "3e7c71ed",
   "metadata": {},
   "outputs": [],
   "source": [
    "from collections.abc import Iterable\n",
    "\n",
    "\n",
    "class MyIterable(Iterable):  # Same as Iterable[Any]\n",
    "    ..."
   ]
  },
  {
   "cell_type": "markdown",
   "id": "e3723b43",
   "metadata": {},
   "source": [
    "User-defined generic type aliases are also supported. Examples:\n"
   ]
  },
  {
   "cell_type": "code",
   "execution_count": 29,
   "id": "0de35ef9",
   "metadata": {},
   "outputs": [],
   "source": [
    "from collections.abc import Iterable\n",
    "from typing import TypeVar\n",
    "\n",
    "S = TypeVar(\"S\")\n",
    "Response = Iterable[S] | int\n",
    "\n",
    "\n",
    "# Return type here is same as Iterable[str] | int\n",
    "def response(query: str) -> Response[str]:\n",
    "    ...\n",
    "\n",
    "\n",
    "T = TypeVar(\"T\", int, float, complex)\n",
    "Vec = Iterable[tuple[T, T]]\n",
    "\n",
    "\n",
    "def inproduct(v: Vec[T]) -> T:  # Same as Iterable[tuple[T, T]]\n",
    "    return sum(x * y for x, y in v)"
   ]
  },
  {
   "cell_type": "code",
   "execution_count": null,
   "id": "4343802a",
   "metadata": {},
   "outputs": [],
   "source": [
    "from typing import Generic, ParamSpec, TypeVar\n",
    "\n",
    "T = TypeVar(\"T\")\n",
    "P = ParamSpec(\"P\")\n",
    "\n",
    "\n",
    "class Z(Generic[T, P]):\n",
    "    ...\n",
    "\n",
    "\n",
    "Z[int, [dict, float]]"
   ]
  },
  {
   "cell_type": "code",
   "execution_count": null,
   "id": "af5d9857",
   "metadata": {},
   "outputs": [],
   "source": [
    "class X(Generic[P]):\n",
    "    ...\n",
    "\n",
    "\n",
    "X[int, str]"
   ]
  },
  {
   "cell_type": "code",
   "execution_count": null,
   "id": "c209b98d",
   "metadata": {},
   "outputs": [],
   "source": [
    "X[[int, str]]"
   ]
  },
  {
   "cell_type": "markdown",
   "id": "f9a5897e",
   "metadata": {},
   "source": [
    "\n"
   ]
  },
  {
   "cell_type": "markdown",
   "id": "895f1474",
   "metadata": {},
   "source": [
    "# The [Any](#typing.Any) type[¶](#the-any-type)\n",
    "\n",
    "A special kind of type is [Any](#typing.Any). A static type checker will treat every type as being compatible with [Any](#typing.Any) and [Any](#typing.Any) as being compatible with every type. This means that it is possible to perform any operation or method call on a value of type [Any](#typing.Any) and assign it to any variable:\n"
   ]
  },
  {
   "cell_type": "code",
   "execution_count": 30,
   "id": "3fcab5e4",
   "metadata": {},
   "outputs": [],
   "source": [
    "from typing import Any\n",
    "\n",
    "a: Any = None\n",
    "a = []  # OK\n",
    "a = 2  # OK\n",
    "\n",
    "s: str = \"\"\n",
    "s = a  # OK\n",
    "\n",
    "\n",
    "def foo(item: Any) -> int:\n",
    "    # Passes type checking; 'item' could be any type,\n",
    "    # and that type might have a 'bar' method\n",
    "    item.bar()\n",
    "    ..."
   ]
  },
  {
   "cell_type": "markdown",
   "id": "0c08de8e",
   "metadata": {},
   "source": [
    "Notice that no type checking is performed when assigning a value of type [Any](#typing.Any) to a more precise type. For example, the static type checker did not report an error when assigning `a` to `s` even though `s` was declared to be of type [str](stdtypes.html#str) and receives an [int](functions.html#int) value at runtime! Furthermore, all functions without a return type or parameter types will implicitly default to using [Any](#typing.Any):\n"
   ]
  },
  {
   "cell_type": "code",
   "execution_count": 31,
   "id": "eeb0b1ce",
   "metadata": {},
   "outputs": [],
   "source": [
    "def legacy_parser(text):\n",
    "    ...\n",
    "    return\n",
    "\n",
    "\n",
    "# A static type checker will treat the above\n",
    "# as having the same signature as:\n",
    "def legacy_parser(text: Any) -> Any:\n",
    "    ...\n",
    "    return"
   ]
  },
  {
   "cell_type": "markdown",
   "id": "0eee490c",
   "metadata": {},
   "source": [
    "This behavior allows [Any](#typing.Any) to be used as an _escape hatch_ when you need to mix dynamically and statically typed code. Contrast the behavior of [Any](#typing.Any) with the behavior of [object](functions.html#object). Similar to [Any](#typing.Any), every type is a subtype of [object](functions.html#object). However, unlike [Any](#typing.Any), the reverse is not true: [object](functions.html#object) is _not_ a subtype of every other type. That means when the type of a value is [object](functions.html#object), a type checker will reject almost all operations on it, and assigning it to a variable (or using it as a return value) of a more specialized type is a type error. For example:\n"
   ]
  },
  {
   "cell_type": "code",
   "execution_count": 32,
   "id": "4fadda83",
   "metadata": {},
   "outputs": [
    {
     "ename": "AttributeError",
     "evalue": "'int' object has no attribute 'magic'",
     "output_type": "error",
     "traceback": [
      "\u001b[0;31m---------------------------------------------------------------------------\u001b[0m",
      "\u001b[0;31mAttributeError\u001b[0m                            Traceback (most recent call last)",
      "\u001b[1;32m/home/agus/Repos/inference/notebooks/type_hints.ipynb Cell 68\u001b[0m line \u001b[0;36m1\n\u001b[1;32m     <a href='vscode-notebook-cell:/home/agus/Repos/inference/notebooks/type_hints.ipynb#Y123sZmlsZQ%3D%3D?line=9'>10</a>\u001b[0m     \u001b[39m.\u001b[39m\u001b[39m.\u001b[39m\u001b[39m.\u001b[39m\n\u001b[1;32m     <a href='vscode-notebook-cell:/home/agus/Repos/inference/notebooks/type_hints.ipynb#Y123sZmlsZQ%3D%3D?line=12'>13</a>\u001b[0m \u001b[39m# Passes type checking, since ints and strs are subclasses of object\u001b[39;00m\n\u001b[0;32m---> <a href='vscode-notebook-cell:/home/agus/Repos/inference/notebooks/type_hints.ipynb#Y123sZmlsZQ%3D%3D?line=13'>14</a>\u001b[0m hash_a(\u001b[39m42\u001b[39;49m)\n\u001b[1;32m     <a href='vscode-notebook-cell:/home/agus/Repos/inference/notebooks/type_hints.ipynb#Y123sZmlsZQ%3D%3D?line=14'>15</a>\u001b[0m hash_a(\u001b[39m\"\u001b[39m\u001b[39mfoo\u001b[39m\u001b[39m\"\u001b[39m)\n\u001b[1;32m     <a href='vscode-notebook-cell:/home/agus/Repos/inference/notebooks/type_hints.ipynb#Y123sZmlsZQ%3D%3D?line=16'>17</a>\u001b[0m \u001b[39m# Passes type checking, since Any is compatible with all types\u001b[39;00m\n",
      "\u001b[1;32m/home/agus/Repos/inference/notebooks/type_hints.ipynb Cell 68\u001b[0m line \u001b[0;36m3\n\u001b[1;32m      <a href='vscode-notebook-cell:/home/agus/Repos/inference/notebooks/type_hints.ipynb#Y123sZmlsZQ%3D%3D?line=0'>1</a>\u001b[0m \u001b[39mdef\u001b[39;00m \u001b[39mhash_a\u001b[39m(item: \u001b[39mobject\u001b[39m) \u001b[39m-\u001b[39m\u001b[39m>\u001b[39m \u001b[39mint\u001b[39m:\n\u001b[1;32m      <a href='vscode-notebook-cell:/home/agus/Repos/inference/notebooks/type_hints.ipynb#Y123sZmlsZQ%3D%3D?line=1'>2</a>\u001b[0m     \u001b[39m# Fails type checking; an object does not have a 'magic' method.\u001b[39;00m\n\u001b[0;32m----> <a href='vscode-notebook-cell:/home/agus/Repos/inference/notebooks/type_hints.ipynb#Y123sZmlsZQ%3D%3D?line=2'>3</a>\u001b[0m     item\u001b[39m.\u001b[39;49mmagic()\n\u001b[1;32m      <a href='vscode-notebook-cell:/home/agus/Repos/inference/notebooks/type_hints.ipynb#Y123sZmlsZQ%3D%3D?line=3'>4</a>\u001b[0m     \u001b[39m.\u001b[39m\u001b[39m.\u001b[39m\u001b[39m.\u001b[39m\n",
      "\u001b[0;31mAttributeError\u001b[0m: 'int' object has no attribute 'magic'"
     ]
    }
   ],
   "source": [
    "def hash_a(item: object) -> int:\n",
    "    # Fails type checking; an object does not have a 'magic' method.\n",
    "    item.magic()\n",
    "    ...\n",
    "\n",
    "\n",
    "def hash_b(item: Any) -> int:\n",
    "    # Passes type checking\n",
    "    item.magic()\n",
    "    ...\n",
    "\n",
    "\n",
    "# Passes type checking, since ints and strs are subclasses of object\n",
    "hash_a(42)\n",
    "hash_a(\"foo\")\n",
    "\n",
    "# Passes type checking, since Any is compatible with all types\n",
    "hash_b(42)\n",
    "hash_b(\"foo\")"
   ]
  },
  {
   "cell_type": "markdown",
   "id": "dc6b1c68",
   "metadata": {},
   "source": [
    "Use [object](functions.html#object) to indicate that a value could be any type in a typesafe manner. Use [Any](#typing.Any) to indicate that a value is dynamically typed.\n",
    "\n",
    "# Nominal vs structural subtyping[¶](#nominal-vs-structural-subtyping)\n",
    "\n",
    "Initially [PEP 484](https://peps.python.org/pep-0484/) defined the Python static type system as using _nominal subtyping_. This means that a class `A` is allowed where a class `B` is expected if and only if `A` is a subclass of `B`. This requirement previously also applied to abstract base classes, such as [Iterable](collections.abc.html#collections.abc.Iterable). The problem with this approach is that a class had to be explicitly marked to support them, which is unpythonic and unlike what one would normally do in idiomatic dynamically typed Python code. For example, this conforms to [PEP 484](https://peps.python.org/pep-0484/):\n"
   ]
  },
  {
   "cell_type": "code",
   "execution_count": null,
   "id": "9e75a0bd",
   "metadata": {},
   "outputs": [],
   "source": [
    "from collections.abc import Sized, Iterable, Iterator\n",
    "\n",
    "\n",
    "class Bucket(Sized, Iterable[int]):\n",
    "    ...\n",
    "\n",
    "    def __len__(self) -> int:\n",
    "        ...\n",
    "\n",
    "    def __iter__(self) -> Iterator[int]:\n",
    "        ..."
   ]
  },
  {
   "cell_type": "markdown",
   "id": "2d6bea16",
   "metadata": {},
   "source": [
    "[PEP 544](https://peps.python.org/pep-0544/) allows to solve this problem by allowing users to write the above code without explicit base classes in the class definition, allowing `Bucket` to be implicitly considered a subtype of both `Sized` and `Iterable[int]` by static type checkers. This is known as _structural subtyping_ (or static duck-typing):\n"
   ]
  },
  {
   "cell_type": "code",
   "execution_count": null,
   "id": "5ca55af4",
   "metadata": {},
   "outputs": [],
   "source": [
    "from collections.abc import Iterator, Iterable\n",
    "\n",
    "\n",
    "class Bucket:  # Note: no base classes\n",
    "    ...\n",
    "\n",
    "    def __len__(self) -> int:\n",
    "        ...\n",
    "\n",
    "    def __iter__(self) -> Iterator[int]:\n",
    "        ...\n",
    "\n",
    "\n",
    "def collect(items: Iterable[int]) -> int:\n",
    "    ...\n",
    "\n",
    "\n",
    "result = collect(Bucket())  # Passes type check"
   ]
  },
  {
   "cell_type": "markdown",
   "id": "524321c6",
   "metadata": {},
   "source": [
    "Moreover, by subclassing a special class [Protocol](#typing.Protocol), a user can define new custom protocols to fully enjoy structural subtyping (see examples below).\n",
    "\n",
    "# Module contents[¶](#module-contents)\n",
    "\n",
    "The `typing` module defines the following classes, functions and decorators.\n",
    "\n",
    "## Special typing primitives[¶](#special-typing-primitives)\n",
    "\n",
    "### Special types[¶](#special-types)\n",
    "\n",
    "These can be used as types in annotations. They do not support subscription using `[]`.\n",
    "\n",
    "typing.Any[¶](#typing.Any) Special type indicating an unconstrained type.\n",
    "\n",
    "- Every type is compatible with [Any](#typing.Any).\n",
    "\n",
    "- [Any](#typing.Any) is compatible with every type.\n",
    "\n",
    "Changed in version 3.11: [Any](#typing.Any) can now be used as a base class. This can be useful for avoiding type checker errors with classes that can duck type anywhere or are highly dynamic.\n",
    "\n",
    "typing.AnyStr[¶](#typing.AnyStr) A [constrained type variable](#typing-constrained-typevar). Definition:\n"
   ]
  },
  {
   "cell_type": "code",
   "execution_count": null,
   "id": "5f6c80db",
   "metadata": {},
   "outputs": [],
   "source": [
    "AnyStr = TypeVar(\"AnyStr\", str, bytes)"
   ]
  },
  {
   "cell_type": "markdown",
   "id": "fc06c53e",
   "metadata": {},
   "source": [
    "`AnyStr` is meant to be used for functions that may accept [str](stdtypes.html#str) or [bytes](stdtypes.html#bytes) arguments but cannot allow the two to mix. For example:\n"
   ]
  },
  {
   "cell_type": "code",
   "execution_count": null,
   "id": "f0d26bce",
   "metadata": {},
   "outputs": [],
   "source": [
    "def concat(a: AnyStr, b: AnyStr) -> AnyStr:\n",
    "    return a + b\n",
    "\n",
    "\n",
    "concat(\"foo\", \"bar\")  # OK, output has type 'str'\n",
    "concat(b\"foo\", b\"bar\")  # OK, output has type 'bytes'\n",
    "concat(\"foo\", b\"bar\")  # Error, cannot mix str and bytes"
   ]
  },
  {
   "cell_type": "markdown",
   "id": "2a83d088",
   "metadata": {},
   "source": [
    "Note that, despite its name, `AnyStr` has nothing to do with the [Any](#typing.Any) type, nor does it mean \"any string\". In particular, `AnyStr` and `str | bytes` are different from each other and have different use cases:\n"
   ]
  },
  {
   "cell_type": "code",
   "execution_count": null,
   "id": "147f01df",
   "metadata": {},
   "outputs": [],
   "source": [
    "# Invalid use of AnyStr:\n",
    "# The type variable is used only once in the function signature,\n",
    "# so cannot be \"solved\" by the type checker\n",
    "def greet_bad(cond: bool) -> AnyStr:\n",
    "    return \"hi there!\" if cond else b\"greetings!\"\n",
    "\n",
    "\n",
    "# The better way of annotating this function:\n",
    "def greet_proper(cond: bool) -> str | bytes:\n",
    "    return \"hi there!\" if cond else b\"greetings!\""
   ]
  },
  {
   "cell_type": "markdown",
   "id": "11bfa7c3",
   "metadata": {},
   "source": [
    "typing.LiteralString[¶](#typing.LiteralString) Special type that includes only literal strings. Any string literal is compatible with `LiteralString`, as is another `LiteralString`. However, an object typed as just `str` is not. A string created by composing `LiteralString`-typed objects is also acceptable as a `LiteralString`. Example:\n"
   ]
  },
  {
   "cell_type": "code",
   "execution_count": null,
   "id": "849500bf",
   "metadata": {},
   "outputs": [],
   "source": [
    "from typing import LiteralString\n",
    "\n",
    "\n",
    "def run_query(sql: LiteralString) -> None:\n",
    "    ...\n",
    "\n",
    "\n",
    "def caller(arbitrary_string: str, literal_string: LiteralString) -> None:\n",
    "    run_query(\"SELECT * FROM students\")  # OK\n",
    "    run_query(literal_string)  # OK\n",
    "    run_query(f\"SELECT * FROM {literal_string}\")\n",
    "    run_query(arbitrary_string)  # type checker error\n",
    "    run_query(  # type checker error\n",
    "        f\"SELECT * FROM students WHERE name = {arbitrary_string}\"\n",
    "    )"
   ]
  },
  {
   "cell_type": "markdown",
   "id": "edbfac3e",
   "metadata": {},
   "source": [
    "`LiteralString` is useful for sensitive APIs where arbitrary user-generated strings could generate problems. For example, the two cases above that generate type checker errors could be vulnerable to an SQL injection attack. See [PEP 675](https://peps.python.org/pep-0675/) for more details.\n",
    "\n",
    "New in version 3.11.\n",
    "\n",
    "typing.Never[¶](#typing.Never) The [bottom type](https://en.wikipedia.org/wiki/Bottom_type), a type that has no members. This can be used to define a function that should never be called, or a function that never returns:\n"
   ]
  },
  {
   "cell_type": "code",
   "execution_count": null,
   "id": "00182741",
   "metadata": {},
   "outputs": [],
   "source": [
    "from typing import Never\n",
    "\n",
    "\n",
    "def never_call_me(arg: Never) -> None:\n",
    "    pass\n",
    "\n",
    "\n",
    "def int_or_str(arg: int | str) -> None:\n",
    "    never_call_me(arg)  # type checker error\n",
    "    match arg:\n",
    "        case int():\n",
    "            print(\"It's an int\")\n",
    "        case str():\n",
    "            print(\"It's a str\")\n",
    "        case _:\n",
    "            never_call_me(arg)  # OK, arg is of type Never"
   ]
  },
  {
   "cell_type": "markdown",
   "id": "84bdaff4",
   "metadata": {},
   "source": [
    "New in version 3.11: On older Python versions, [NoReturn](#typing.NoReturn) may be used to express the same concept. `Never` was added to make the intended meaning more explicit.\n",
    "\n",
    "typing.NoReturn[¶](#typing.NoReturn) Special type indicating that a function never returns. For example:\n"
   ]
  },
  {
   "cell_type": "code",
   "execution_count": null,
   "id": "3573dc54",
   "metadata": {},
   "outputs": [],
   "source": [
    "from typing import NoReturn\n",
    "\n",
    "\n",
    "def stop() -> NoReturn:\n",
    "    raise RuntimeError(\"no way\")"
   ]
  },
  {
   "cell_type": "markdown",
   "id": "8465b906",
   "metadata": {},
   "source": [
    "`NoReturn` can also be used as a [bottom type](https://en.wikipedia.org/wiki/Bottom_type), a type that has no values. Starting in Python 3.11, the [Never](#typing.Never) type should be used for this concept instead. Type checkers should treat the two equivalently.\n",
    "\n",
    "New in version 3.5.4.\n",
    "\n",
    "New in version 3.6.2.\n",
    "\n",
    "typing.Self[¶](#typing.Self) Special type to represent the current enclosed class. For example:\n"
   ]
  },
  {
   "cell_type": "code",
   "execution_count": null,
   "id": "ec828e5a",
   "metadata": {},
   "outputs": [],
   "source": [
    "from typing import Self, reveal_type\n",
    "\n",
    "\n",
    "class Foo:\n",
    "    def return_self(self) -> Self:\n",
    "        ...\n",
    "        return self\n",
    "\n",
    "\n",
    "class SubclassOfFoo(Foo):\n",
    "    pass\n",
    "\n",
    "\n",
    "reveal_type(Foo().return_self())  # Revealed type is \"Foo\"\n",
    "reveal_type(SubclassOfFoo().return_self())  # Revealed type is \"SubclassOfFoo\""
   ]
  },
  {
   "cell_type": "markdown",
   "id": "f487c0ad",
   "metadata": {},
   "source": [
    "This annotation is semantically equivalent to the following, albeit in a more succinct fashion:\n"
   ]
  },
  {
   "cell_type": "code",
   "execution_count": null,
   "id": "a81d725c",
   "metadata": {},
   "outputs": [],
   "source": [
    "from typing import TypeVar\n",
    "\n",
    "Self = TypeVar(\"Self\", bound=\"Foo\")\n",
    "\n",
    "\n",
    "class Foo:\n",
    "    def return_self(self: Self) -> Self:\n",
    "        ...\n",
    "        return self"
   ]
  },
  {
   "cell_type": "markdown",
   "id": "a6377695",
   "metadata": {},
   "source": [
    "In general, if something returns `self`, as in the above examples, you should use `Self` as the return annotation. If `Foo.return_self` was annotated as returning `\"Foo\"`, then the type checker would infer the object returned from `SubclassOfFoo.return_self` as being of type `Foo` rather than `SubclassOfFoo`. Other common use cases include:\n",
    "\n",
    "- [classmethod](functions.html#classmethod)s that are used as alternative constructors and return instances of the `cls` parameter.\n",
    "\n",
    "- Annotating an [**enter**()](../reference/datamodel.html#object.__enter__) method which returns self.\n",
    "\n",
    "You should not use `Self` as the return annotation if the method is not guaranteed to return an instance of a subclass when the class is subclassed:\n"
   ]
  },
  {
   "cell_type": "code",
   "execution_count": null,
   "id": "ae6be07e",
   "metadata": {},
   "outputs": [],
   "source": [
    "class Eggs:\n",
    "    # Self would be an incorrect return annotation here,\n",
    "    # as the object returned is always an instance of Eggs,\n",
    "    # even in subclasses\n",
    "    def returns_eggs(self) -> \"Eggs\":\n",
    "        return Eggs()"
   ]
  },
  {
   "cell_type": "markdown",
   "id": "4fe8babb",
   "metadata": {},
   "source": [
    "See [PEP 673](https://peps.python.org/pep-0673/) for more details.\n",
    "\n",
    "New in version 3.11.\n",
    "\n",
    "typing.TypeAlias[¶](#typing.TypeAlias) Special annotation for explicitly declaring a [type alias](#type-aliases). For example:\n"
   ]
  },
  {
   "cell_type": "code",
   "execution_count": null,
   "id": "c5b03f1f",
   "metadata": {},
   "outputs": [],
   "source": [
    "from typing import TypeAlias\n",
    "\n",
    "Factors: TypeAlias = list[int]"
   ]
  },
  {
   "cell_type": "markdown",
   "id": "53085da4",
   "metadata": {},
   "source": [
    "`TypeAlias` is particularly useful for annotating aliases that make use of forward references, as it can be hard for type checkers to distinguish these from normal variable assignments:\n"
   ]
  },
  {
   "cell_type": "code",
   "execution_count": null,
   "id": "f98e6c36",
   "metadata": {},
   "outputs": [],
   "source": [
    "from typing import Generic, TypeAlias, TypeVar\n",
    "\n",
    "T = TypeVar(\"T\")\n",
    "\n",
    "# \"Box\" does not exist yet,\n",
    "# so we have to use quotes for the forward reference.\n",
    "# Using ``TypeAlias`` tells the type checker that this is a type alias declaration,\n",
    "# not a variable assignment to a string.\n",
    "BoxOfStrings: TypeAlias = \"Box[str]\"\n",
    "\n",
    "\n",
    "class Box(Generic[T]):\n",
    "    @classmethod\n",
    "    def make_box_of_strings(cls) -> BoxOfStrings:\n",
    "        ..."
   ]
  },
  {
   "cell_type": "markdown",
   "id": "f9f31a44",
   "metadata": {},
   "source": [
    "See [PEP 613](https://peps.python.org/pep-0613/) for more details.\n",
    "\n",
    "New in version 3.10.\n",
    "\n",
    "# Special forms[¶](#special-forms)\n",
    "\n",
    "These can be used as types in annotations. They all support subscription using `[]`, but each has a unique syntax.\n",
    "\n",
    "typing.Union[¶](#typing.Union) Union type; `Union[X, Y]` is equivalent to `X | Y` and means either X or Y. To define a union, use e.g. `Union[int, str]` or the shorthand `int | str`. Using that shorthand is recommended. Details:\n",
    "\n",
    "- The arguments must be types and there must be at least one.\n",
    "\n",
    "- Unions of unions are flattened, e.g.:\n"
   ]
  },
  {
   "cell_type": "code",
   "execution_count": null,
   "id": "0bbb2393",
   "metadata": {},
   "outputs": [],
   "source": [
    "from typing import Union\n",
    "\n",
    "\n",
    "Union[Union[int, str], float] == Union[int, str, float]"
   ]
  },
  {
   "cell_type": "markdown",
   "id": "0614ce5c",
   "metadata": {},
   "source": [
    "- Unions of a single argument vanish, e.g.:\n"
   ]
  },
  {
   "cell_type": "code",
   "execution_count": null,
   "id": "834e9021",
   "metadata": {},
   "outputs": [],
   "source": [
    "Union[int] == int  # The constructor actually returns int"
   ]
  },
  {
   "cell_type": "markdown",
   "id": "1de7d643",
   "metadata": {},
   "source": [
    "- Redundant arguments are skipped, e.g.:\n"
   ]
  },
  {
   "cell_type": "code",
   "execution_count": null,
   "id": "e2627026",
   "metadata": {},
   "outputs": [],
   "source": [
    "Union[int, str, int] == Union[int, str] == int | str"
   ]
  },
  {
   "cell_type": "markdown",
   "id": "7cb5be3f",
   "metadata": {},
   "source": [
    "- When comparing unions, the argument order is ignored, e.g.:\n"
   ]
  },
  {
   "cell_type": "code",
   "execution_count": null,
   "id": "7472ae1e",
   "metadata": {},
   "outputs": [],
   "source": [
    "Union[int, str] == Union[str, int]"
   ]
  },
  {
   "cell_type": "markdown",
   "id": "04d3a5bd",
   "metadata": {},
   "source": [
    "- You cannot subclass or instantiate a `Union`.\n",
    "\n",
    "- You cannot write `Union[X][Y]`.\n",
    "\n",
    "Changed in version 3.7: Don't remove explicit subclasses from unions at runtime.\n",
    "\n",
    "Changed in version 3.10: Unions can now be written as `X | Y`. See [union type expressions](stdtypes.html#types-union).\n",
    "\n",
    "typing.Optional[¶](#typing.Optional) `Optional[X]` is equivalent to `X | None` (or `Union[X, None]`). Note that this is not the same concept as an optional argument, which is one that has a default. An optional argument with a default does not require the `Optional` qualifier on its type annotation just because it is optional. For example:\n"
   ]
  },
  {
   "cell_type": "code",
   "execution_count": null,
   "id": "e3b14809",
   "metadata": {},
   "outputs": [],
   "source": [
    "def foo(arg: int = 0) -> None:\n",
    "    ..."
   ]
  },
  {
   "cell_type": "markdown",
   "id": "48a8ab1e",
   "metadata": {},
   "source": [
    "On the other hand, if an explicit value of `None` is allowed, the use of `Optional` is appropriate, whether the argument is optional or not. For example:\n"
   ]
  },
  {
   "cell_type": "code",
   "execution_count": null,
   "id": "24727ad1",
   "metadata": {},
   "outputs": [],
   "source": [
    "from typing import Optional\n",
    "\n",
    "\n",
    "def foo(arg: Optional[int] = None) -> None:\n",
    "    ..."
   ]
  },
  {
   "cell_type": "code",
   "execution_count": null,
   "id": "5cea2800",
   "metadata": {},
   "outputs": [],
   "source": [
    "from collections.abc import Callable\n",
    "from threading import Lock\n",
    "from typing import Concatenate, ParamSpec, TypeVar\n",
    "\n",
    "P = ParamSpec(\"P\")\n",
    "R = TypeVar(\"R\")\n",
    "\n",
    "# Use this lock to ensure that only one thread is executing a function\n",
    "# at any time.\n",
    "my_lock = Lock()\n",
    "\n",
    "\n",
    "def with_lock(f: Callable[Concatenate[Lock, P], R]) -> Callable[P, R]:\n",
    "    \"\"\"A type-safe decorator which provides a lock.\"\"\"\n",
    "\n",
    "    def inner(*args: P.args, **kwargs: P.kwargs) -> R:\n",
    "        # Provide the lock as the first argument.\n",
    "        return f(my_lock, *args, **kwargs)\n",
    "\n",
    "    return inner\n",
    "\n",
    "\n",
    "@with_lock\n",
    "def sum_threadsafe(lock: Lock, numbers: list[float]) -> float:\n",
    "    \"\"\"Add a list of numbers together in a thread-safe manner.\"\"\"\n",
    "    with lock:\n",
    "        return sum(numbers)\n",
    "\n",
    "\n",
    "# We don't need to pass in the lock ourselves thanks to the decorator.\n",
    "sum_threadsafe([1.1, 2.2, 3.3])"
   ]
  },
  {
   "cell_type": "code",
   "execution_count": null,
   "id": "fee832ea",
   "metadata": {},
   "outputs": [],
   "source": [
    "from typing import Literal\n",
    "\n",
    "\n",
    "def validate_simple(data: Any) -> Literal[True]:  # always returns True\n",
    "    ...\n",
    "\n",
    "\n",
    "Mode: TypeAlias = Literal[\"r\", \"rb\", \"w\", \"wb\"]\n",
    "\n",
    "\n",
    "def open_helper(file: str, mode: Mode) -> str:\n",
    "    ...\n",
    "\n",
    "\n",
    "open_helper(\"/some/path\", \"r\")  # Passes type check\n",
    "open_helper(\"/other/path\", \"typo\")  # Error in type checker"
   ]
  },
  {
   "cell_type": "markdown",
   "id": "d77612ef",
   "metadata": {},
   "source": [
    "`Literal[...]` cannot be subclassed. At runtime, an arbitrary value is allowed as type argument to `Literal[...]`, but type checkers may impose restrictions. See [PEP 586](https://peps.python.org/pep-0586/) for more details about literal types.\n",
    "\n",
    "New in version 3.8.\n",
    "\n",
    "Changed in version 3.9.1: `Literal` now de-duplicates parameters. Equality comparisons of `Literal` objects are no longer order dependent. `Literal` objects will now raise a [TypeError](exceptions.html#TypeError) exception during equality comparisons if one of their parameters are not [hashable](../glossary.html#term-hashable).\n"
   ]
  },
  {
   "cell_type": "markdown",
   "id": "612d3267",
   "metadata": {},
   "source": [
    "typing.ClassVar[¶](#typing.ClassVar) Special type construct to mark class variables. As introduced in [PEP 526](https://peps.python.org/pep-0526/), a variable annotation wrapped in ClassVar indicates that a given attribute is intended to be used as a class variable and should not be set on instances of that class. Usage:\n"
   ]
  },
  {
   "cell_type": "code",
   "execution_count": null,
   "id": "af12fc1d",
   "metadata": {},
   "outputs": [],
   "source": [
    "from typing import ClassVar\n",
    "\n",
    "\n",
    "class Starship:\n",
    "    stats: ClassVar[dict[str, int]] = {}  # class variable\n",
    "    damage: int = 10  # instance variable"
   ]
  },
  {
   "cell_type": "markdown",
   "id": "4d9485cf",
   "metadata": {},
   "source": [
    "[ClassVar](#typing.ClassVar) accepts only types and cannot be further subscribed. [ClassVar](#typing.ClassVar) is not a class itself, and should not be used with [isinstance()](functions.html#isinstance) or [issubclass()](functions.html#issubclass). [ClassVar](#typing.ClassVar) does not change Python runtime behavior, but it can be used by third-party type checkers. For example, a type checker might flag the following code as an error:\n"
   ]
  },
  {
   "cell_type": "code",
   "execution_count": null,
   "id": "642bace6",
   "metadata": {},
   "outputs": [],
   "source": [
    "enterprise_d = Starship(3000)\n",
    "enterprise_d.stats = {}  # Error, setting class variable on instance\n",
    "Starship.stats = {}  # This is OK"
   ]
  },
  {
   "cell_type": "markdown",
   "id": "029832cf",
   "metadata": {},
   "source": [
    "New in version 3.5.3.\n",
    "\n",
    "typing.Final[¶](#typing.Final) Special typing construct to indicate final names to type checkers. Final names cannot be reassigned in any scope. Final names declared in class scopes cannot be overridden in subclasses. For example:\n"
   ]
  },
  {
   "cell_type": "code",
   "execution_count": null,
   "id": "d5aa1e69",
   "metadata": {},
   "outputs": [],
   "source": [
    "from typing import Final\n",
    "\n",
    "\n",
    "MAX_SIZE: Final = 9000\n",
    "MAX_SIZE += 1  # Error reported by type checker\n",
    "\n",
    "\n",
    "class Connection:\n",
    "    TIMEOUT: Final[int] = 10\n",
    "\n",
    "\n",
    "class FastConnector(Connection):\n",
    "    TIMEOUT = 1  # Error reported by type checker"
   ]
  },
  {
   "cell_type": "code",
   "execution_count": null,
   "id": "0887948d",
   "metadata": {},
   "outputs": [],
   "source": [
    "from dataclasses import dataclass\n",
    "from typing import Annotated\n",
    "\n",
    "\n",
    "@dataclass\n",
    "class ValueRange:\n",
    "    lo: int\n",
    "    hi: int\n",
    "\n",
    "\n",
    "T1 = Annotated[int, ValueRange(-10, 5)]\n",
    "T2 = Annotated[T1, ValueRange(-20, 3)]"
   ]
  },
  {
   "cell_type": "markdown",
   "id": "5ae0b1e8",
   "metadata": {},
   "source": [
    "Details of the syntax:\n",
    "\n",
    "- The first argument to `Annotated` must be a valid type\n",
    "\n",
    "- Multiple metadata elements can be supplied (`Annotated` supports variadic arguments):\n"
   ]
  },
  {
   "cell_type": "code",
   "execution_count": null,
   "id": "ece8f63d",
   "metadata": {},
   "outputs": [],
   "source": [
    "@dataclass\n",
    "class ctype:\n",
    "    kind: str\n",
    "\n",
    "\n",
    "Annotated[int, ValueRange(3, 10), ctype(\"char\")]"
   ]
  },
  {
   "cell_type": "markdown",
   "id": "7ef266eb",
   "metadata": {},
   "source": [
    "It is up to the tool consuming the annotations to decide whether the client is allowed to add multiple metadata elements to one annotation and how to merge those annotations.\n",
    "\n",
    "- `Annotated` must be subscripted with at least two arguments ( `Annotated[int]` is not valid)\n",
    "\n",
    "- The order of the metadata elements is preserved and matters for equality checks:\n"
   ]
  },
  {
   "cell_type": "code",
   "execution_count": null,
   "id": "f9bc22b8",
   "metadata": {},
   "outputs": [],
   "source": [
    "assert (\n",
    "    Annotated[int, ValueRange(3, 10), ctype(\"char\")]\n",
    "    != Annotated[int, ctype(\"char\"), ValueRange(3, 10)]\n",
    ")"
   ]
  },
  {
   "cell_type": "markdown",
   "id": "fe7a9bac",
   "metadata": {},
   "source": [
    "- Nested `Annotated` types are flattened. The order of the metadata elements starts with the innermost annotation:\n"
   ]
  },
  {
   "cell_type": "code",
   "execution_count": null,
   "id": "e14f0d6d",
   "metadata": {},
   "outputs": [],
   "source": [
    "assert (\n",
    "    Annotated[Annotated[int, ValueRange(3, 10)], ctype(\"char\")]\n",
    "    == Annotated[int, ValueRange(3, 10), ctype(\"char\")]\n",
    ")"
   ]
  },
  {
   "cell_type": "markdown",
   "id": "a5386c42",
   "metadata": {},
   "source": [
    "- Duplicated metadata elements are not removed:\n"
   ]
  },
  {
   "cell_type": "code",
   "execution_count": null,
   "id": "cc366623",
   "metadata": {},
   "outputs": [],
   "source": [
    "assert (\n",
    "    Annotated[int, ValueRange(3, 10)]\n",
    "    != Annotated[int, ValueRange(3, 10), ValueRange(3, 10)]\n",
    ")"
   ]
  },
  {
   "cell_type": "markdown",
   "id": "f2650013",
   "metadata": {},
   "source": [
    "- `Annotated` can be used with nested and generic aliases:\n"
   ]
  },
  {
   "cell_type": "code",
   "execution_count": null,
   "id": "3576f215",
   "metadata": {},
   "outputs": [],
   "source": [
    "@dataclass\n",
    "class MaxLen:\n",
    "    value: int\n",
    "\n",
    "\n",
    "T = TypeVar(\"T\")\n",
    "Vec: TypeAlias = Annotated[list[tuple[T, T]], MaxLen(10)]\n",
    "\n",
    "assert Vec[int] == Annotated[list[tuple[int, int]], MaxLen(10)]"
   ]
  },
  {
   "cell_type": "markdown",
   "id": "b47bc482",
   "metadata": {},
   "source": [
    "- `Annotated` cannot be used with an unpacked [TypeVarTuple](#typing.TypeVarTuple):\n"
   ]
  },
  {
   "cell_type": "code",
   "execution_count": null,
   "id": "7f0fa79b",
   "metadata": {},
   "outputs": [],
   "source": [
    "Variadic: TypeAlias = Annotated[*Ts, Ann1]  # NOT valid"
   ]
  },
  {
   "cell_type": "markdown",
   "id": "32d3ac7c",
   "metadata": {},
   "source": [
    "This would be equivalent to:\n"
   ]
  },
  {
   "cell_type": "code",
   "execution_count": null,
   "id": "de871142",
   "metadata": {},
   "outputs": [],
   "source": [
    "Annotated[T1, T2, T3, ..., Ann1]"
   ]
  },
  {
   "cell_type": "markdown",
   "id": "e53ed43e",
   "metadata": {},
   "source": [
    "where `T1`, `T2`, etc. are [TypeVars](#typing.TypeVar). This would be invalid: only one type should be passed to Annotated.\n",
    "\n",
    "- By default, [get_type_hints()](#typing.get_type_hints) strips the metadata from annotations. Pass `include_extras=True` to have the metadata preserved:\n"
   ]
  },
  {
   "cell_type": "code",
   "execution_count": null,
   "id": "b2c61c7c",
   "metadata": {},
   "outputs": [],
   "source": [
    "from typing import Annotated, get_type_hints\n",
    "\n",
    "\n",
    "def func(x: Annotated[int, \"metadata\"]) -> None:\n",
    "    pass\n",
    "\n",
    "\n",
    "get_type_hints(func)"
   ]
  },
  {
   "cell_type": "code",
   "execution_count": null,
   "id": "6ba554c7",
   "metadata": {},
   "outputs": [],
   "source": [
    "get_type_hints(func, include_extras=True)"
   ]
  },
  {
   "cell_type": "markdown",
   "id": "b6a90492",
   "metadata": {},
   "source": [
    "At runtime, the metadata associated with an `Annotated` type can be retrieved via the `__metadata__` attribute:\n"
   ]
  },
  {
   "cell_type": "code",
   "execution_count": null,
   "id": "a4a810e7",
   "metadata": {},
   "outputs": [],
   "source": [
    "from typing import Annotated\n",
    "\n",
    "X = Annotated[int, \"very\", \"important\", \"metadata\"]"
   ]
  },
  {
   "cell_type": "markdown",
   "id": "a2634d25",
   "metadata": {},
   "source": [
    "typing.TypeGuard[¶](#typing.TypeGuard) Special typing construct for marking user-defined type guard functions. `TypeGuard` can be used to annotate the return type of a user-defined type guard function. `TypeGuard` only accepts a single type argument. At runtime, functions marked this way should return a boolean. `TypeGuard` aims to benefit _type narrowing_ – a technique used by static type checkers to determine a more precise type of an expression within a program's code flow. Usually type narrowing is done by analyzing conditional code flow and applying the narrowing to a block of code. The conditional expression here is sometimes referred to as a \"type guard\":\n"
   ]
  },
  {
   "cell_type": "code",
   "execution_count": null,
   "id": "c7b7fb00",
   "metadata": {},
   "outputs": [],
   "source": [
    "def is_str(val: str | float):\n",
    "    # \"isinstance\" type guard\n",
    "    if isinstance(val, str):\n",
    "        # Type of ``val`` is narrowed to ``str``\n",
    "        ...\n",
    "    else:\n",
    "        # Else, type of ``val`` is narrowed to ``float``.\n",
    "        ..."
   ]
  },
  {
   "cell_type": "markdown",
   "id": "5bb5afd1",
   "metadata": {},
   "source": [
    "Sometimes it would be convenient to use a user-defined boolean function as a type guard. Such a function should use `TypeGuard[...]` as its return type to alert static type checkers to this intention. Using `-> TypeGuard` tells the static type checker that for a given function:\n",
    "\n",
    "The return value is a boolean. If the return value is `True`, the type of its argument is the type inside `TypeGuard`.\n",
    "\n",
    "For example:\n"
   ]
  },
  {
   "cell_type": "code",
   "execution_count": null,
   "id": "05c68de5",
   "metadata": {},
   "outputs": [],
   "source": [
    "from typing import TypeGuard\n",
    "\n",
    "\n",
    "def is_str_list(val: list[object]) -> TypeGuard[list[str]]:\n",
    "    \"\"\"Determines whether all objects in the list are strings\"\"\"\n",
    "    return all(isinstance(x, str) for x in val)\n",
    "\n",
    "\n",
    "def func1(val: list[object]):\n",
    "    if is_str_list(val):\n",
    "        # Type of ``val`` is narrowed to ``list[str]``.\n",
    "        print(\" \".join(val))\n",
    "    else:\n",
    "        # Type of ``val`` remains as ``list[object]``.\n",
    "        print(\"Not a list of strings!\")"
   ]
  },
  {
   "cell_type": "markdown",
   "id": "b9150472",
   "metadata": {},
   "source": [
    "If `is_str_list` is a class or instance method, then the type in `TypeGuard` maps to the type of the second parameter after `cls` or `self`. In short, the form `def foo(arg: TypeA) -> TypeGuard[TypeB]: ...`, means that if `foo(arg)` returns `True`, then `arg` narrows from `TypeA` to `TypeB`.\n",
    "\n",
    "<div style=\"background-color: #e6d3a3; border-radius: 10px; padding: 20px; margin-top: 10px; margin-bottom: 10px\"><strong>Note</strong>\n",
    "\n",
    "<code>TypeB</code> need not be a narrower form of <code>TypeA</code> – it can even be a\n",
    "wider form. The main reason is to allow for things like\n",
    "narrowing <code>list[object]</code> to <code>list[str]</code> even though the latter\n",
    "is not a subtype of the former, since <code>list</code> is invariant.\n",
    "The responsibility of writing type-safe type guards is left to the user.</div>\n",
    "\n",
    "`TypeGuard` also works with type variables. See [PEP 647](https://peps.python.org/pep-0647/) for more details.\n",
    "\n",
    "New in version 3.10.\n",
    "\n",
    "typing.Unpack[¶](#typing.Unpack) Typing operator to conceptually mark an object as having been unpacked. For example, using the unpack operator `*` on a [type variable tuple](#typing.TypeVarTuple) is equivalent to using `Unpack` to mark the type variable tuple as having been unpacked:\n"
   ]
  },
  {
   "cell_type": "code",
   "execution_count": null,
   "id": "37ef43a5",
   "metadata": {},
   "outputs": [],
   "source": [
    "from typing import TypeVarTuple, Unpack\n",
    "\n",
    "\n",
    "Ts = TypeVarTuple(\"Ts\")\n",
    "tup: tuple[*Ts]\n",
    "# Effectively does:\n",
    "tup: tuple[Unpack[Ts]]"
   ]
  },
  {
   "cell_type": "markdown",
   "id": "186063af",
   "metadata": {},
   "source": [
    "In fact, `Unpack` can be used interchangeably with `*` in the context of [typing.TypeVarTuple](#typing.TypeVarTuple) and [builtins.tuple](stdtypes.html#tuple) types. You might see `Unpack` being used explicitly in older versions of Python, where `*` couldn't be used in certain places:\n"
   ]
  },
  {
   "cell_type": "code",
   "execution_count": null,
   "id": "5d3b08e5",
   "metadata": {},
   "outputs": [],
   "source": [
    "# In older versions of Python, TypeVarTuple and Unpack\n",
    "# are located in the `typing_extensions` backports package.\n",
    "from typing_extensions import TypeVarTuple, Unpack\n",
    "\n",
    "Ts = TypeVarTuple(\"Ts\")\n",
    "tup: tuple[*Ts]  # Syntax error on Python <= 3.10!\n",
    "tup: tuple[Unpack[Ts]]  # Semantically equivalent, and backwards-compatible"
   ]
  },
  {
   "cell_type": "markdown",
   "id": "dd6743bc",
   "metadata": {},
   "source": [
    "# Building generic types[¶](#building-generic-types)\n",
    "\n",
    "The following classes should not be used directly as annotations. Their intended purpose is to be building blocks for creating generic types.\n",
    "\n",
    "_class_ typing.Generic[¶](#typing.Generic) Abstract base class for generic types. A generic type is typically declared by inheriting from an instantiation of this class with one or more type variables. For example, a generic mapping type might be defined as:\n"
   ]
  },
  {
   "cell_type": "code",
   "execution_count": null,
   "id": "312cdc23",
   "metadata": {},
   "outputs": [],
   "source": [
    "class Mapping(Generic[KT, VT]):\n",
    "    def __getitem__(self, key: KT) -> VT:\n",
    "        ...\n",
    "        # Etc."
   ]
  },
  {
   "cell_type": "markdown",
   "id": "f594e7b3",
   "metadata": {},
   "source": [
    "This class can then be used as follows:\n"
   ]
  },
  {
   "cell_type": "code",
   "execution_count": null,
   "id": "fb934496",
   "metadata": {},
   "outputs": [],
   "source": [
    "X = TypeVar(\"X\")\n",
    "Y = TypeVar(\"Y\")\n",
    "\n",
    "\n",
    "def lookup_name(mapping: Mapping[X, Y], key: X, default: Y) -> Y:\n",
    "    try:\n",
    "        return mapping[key]\n",
    "    except KeyError:\n",
    "        return default"
   ]
  },
  {
   "cell_type": "markdown",
   "id": "8437baf7",
   "metadata": {},
   "source": [
    "_class_ typing.TypeVar(_name_, _*constraints_, _bound=None_, _covariant=False_, _contravariant=False_)[¶](#typing.TypeVar) Type variable. Usage:\n"
   ]
  },
  {
   "cell_type": "code",
   "execution_count": null,
   "id": "9c08e7b5",
   "metadata": {},
   "outputs": [],
   "source": [
    "T = TypeVar(\"T\")  # Can be anything\n",
    "S = TypeVar(\"S\", bound=str)  # Can be any subtype of str\n",
    "A = TypeVar(\"A\", str, bytes)  # Must be exactly str or bytes"
   ]
  },
  {
   "cell_type": "markdown",
   "id": "cb718bdd",
   "metadata": {},
   "source": [
    "Type variables exist primarily for the benefit of static type checkers. They serve as the parameters for generic types as well as for generic function and type alias definitions. See [Generic](#typing.Generic) for more information on generic types. Generic functions work as follows:\n"
   ]
  },
  {
   "cell_type": "code",
   "execution_count": null,
   "id": "592fe208",
   "metadata": {},
   "outputs": [],
   "source": [
    "def repeat(x: T, n: int) -> Sequence[T]:\n",
    "    \"\"\"Return a list containing n references to x.\"\"\"\n",
    "    return [x] * n\n",
    "\n",
    "\n",
    "def print_capitalized(x: S) -> S:\n",
    "    \"\"\"Print x capitalized, and return x.\"\"\"\n",
    "    print(x.capitalize())\n",
    "    return x\n",
    "\n",
    "\n",
    "def concatenate(x: A, y: A) -> A:\n",
    "    \"\"\"Add two strings or bytes objects together.\"\"\"\n",
    "    return x + y"
   ]
  },
  {
   "cell_type": "markdown",
   "id": "5f1ab53a",
   "metadata": {},
   "source": [
    "Note that type variables can be _bound_, _constrained_, or neither, but cannot be both bound _and_ constrained. Type variables may be marked covariant or contravariant by passing `covariant=True` or `contravariant=True`. See [PEP 484](https://peps.python.org/pep-0484/) for more details. By default, type variables are invariant. Bound type variables and constrained type variables have different semantics in several important ways. Using a _bound_ type variable means that the `TypeVar` will be solved using the most specific type possible:\n"
   ]
  },
  {
   "cell_type": "code",
   "execution_count": null,
   "id": "fe636537",
   "metadata": {},
   "outputs": [],
   "source": [
    "x = print_capitalized(\"a string\")\n",
    "reveal_type(x)  # revealed type is str\n",
    "\n",
    "\n",
    "class StringSubclass(str):\n",
    "    pass\n",
    "\n",
    "\n",
    "y = print_capitalized(StringSubclass(\"another string\"))\n",
    "reveal_type(y)  # revealed type is StringSubclass\n",
    "\n",
    "z = print_capitalized(45)  # error: int is not a subtype of str"
   ]
  },
  {
   "cell_type": "markdown",
   "id": "18cb9107",
   "metadata": {},
   "source": [
    "Type variables can be bound to concrete types, abstract types (ABCs or protocols), and even unions of types:\n"
   ]
  },
  {
   "cell_type": "code",
   "execution_count": null,
   "id": "793de9bc",
   "metadata": {},
   "outputs": [],
   "source": [
    "from typing import SupportsAbs\n",
    "\n",
    "\n",
    "U = TypeVar(\"U\", bound=str | bytes)  # Can be any subtype of the union str|bytes\n",
    "V = TypeVar(\"V\", bound=SupportsAbs)  # Can be anything with an __abs__ method"
   ]
  },
  {
   "cell_type": "markdown",
   "id": "2db1ad86",
   "metadata": {},
   "source": [
    "Using a _constrained_ type variable, however, means that the `TypeVar` can only ever be solved as being exactly one of the constraints given:\n"
   ]
  },
  {
   "cell_type": "code",
   "execution_count": null,
   "id": "751de904",
   "metadata": {},
   "outputs": [],
   "source": [
    "a = concatenate(\"one\", \"two\")\n",
    "reveal_type(a)  # revealed type is str\n",
    "\n",
    "b = concatenate(StringSubclass(\"one\"), StringSubclass(\"two\"))\n",
    "reveal_type(b)  # revealed type is str, despite StringSubclass being passed in\n",
    "\n",
    "c = concatenate(\n",
    "    \"one\", b\"two\"\n",
    ")  # error: type variable 'A' can be either str or bytes in a function call, but not both"
   ]
  },
  {
   "cell_type": "markdown",
   "id": "3974fdb8",
   "metadata": {},
   "source": [
    "At runtime, `isinstance(x, T)` will raise [TypeError](exceptions.html#TypeError).\n",
    "\n",
    "**name**[¶](#typing.TypeVar.__name__) The name of the type variable.\n",
    "\n",
    "**covariant**[¶](#typing.TypeVar.__covariant__) Whether the type var has been marked as covariant.\n",
    "\n",
    "**contravariant**[¶](#typing.TypeVar.__contravariant__) Whether the type var has been marked as contravariant.\n",
    "\n",
    "**bound**[¶](#typing.TypeVar.__bound__) The bound of the type variable, if any.\n",
    "\n",
    "**constraints**[¶](#typing.TypeVar.__constraints__) A tuple containing the constraints of the type variable, if any.\n",
    "\n",
    "_class_ typing.TypeVarTuple(_name_)[¶](#typing.TypeVarTuple) Type variable tuple. A specialized form of [type variable](#typing.TypeVar) that enables _variadic_ generics. Usage:\n"
   ]
  },
  {
   "cell_type": "code",
   "execution_count": null,
   "id": "f4bb6fd4",
   "metadata": {},
   "outputs": [],
   "source": [
    "T = TypeVar(\"T\")\n",
    "Ts = TypeVarTuple(\"Ts\")\n",
    "\n",
    "\n",
    "def move_first_element_to_last(tup: tuple[T, *Ts]) -> tuple[*Ts, T]:\n",
    "    return (*tup[1:], tup[0])"
   ]
  },
  {
   "cell_type": "markdown",
   "id": "c89336c7",
   "metadata": {},
   "source": [
    "A normal type variable enables parameterization with a single type. A type variable tuple, in contrast, allows parameterization with an _arbitrary_ number of types by acting like an _arbitrary_ number of type variables wrapped in a tuple. For example:\n"
   ]
  },
  {
   "cell_type": "code",
   "execution_count": null,
   "id": "31a8dec7",
   "metadata": {},
   "outputs": [],
   "source": [
    "# T is bound to int, Ts is bound to ()\n",
    "# Return value is (1,), which has type tuple[int]\n",
    "move_first_element_to_last(tup=(1,))\n",
    "\n",
    "# T is bound to int, Ts is bound to (str,)\n",
    "# Return value is ('spam', 1), which has type tuple[str, int]\n",
    "move_first_element_to_last(tup=(1, \"spam\"))\n",
    "\n",
    "# T is bound to int, Ts is bound to (str, float)\n",
    "# Return value is ('spam', 3.0, 1), which has type tuple[str, float, int]\n",
    "move_first_element_to_last(tup=(1, \"spam\", 3.0))\n",
    "\n",
    "# This fails to type check (and fails at runtime)\n",
    "# because tuple[()] is not compatible with tuple[T, *Ts]\n",
    "# (at least one element is required)\n",
    "move_first_element_to_last(tup=())"
   ]
  },
  {
   "cell_type": "markdown",
   "id": "0f3a33d8",
   "metadata": {},
   "source": [
    "Note the use of the unpacking operator `*` in `tuple[T, *Ts]`. Conceptually, you can think of `Ts` as a tuple of type variables `(T1, T2, ...)`. `tuple[T, *Ts]` would then become `tuple[T, *(T1, T2, ...)]`, which is equivalent to `tuple[T, T1, T2, ...]`. (Note that in older versions of Python, you might see this written using [Unpack](#typing.Unpack) instead, as `Unpack[Ts]`.) Type variable tuples must _always_ be unpacked. This helps distinguish type variable tuples from normal type variables:\n"
   ]
  },
  {
   "cell_type": "code",
   "execution_count": null,
   "id": "c2b8e47e",
   "metadata": {},
   "outputs": [],
   "source": [
    "x: Ts  # Not valid\n",
    "x: tuple[Ts]  # Not valid\n",
    "x: tuple[*Ts]  # The correct way to do it"
   ]
  },
  {
   "cell_type": "markdown",
   "id": "157e5cfc",
   "metadata": {},
   "source": [
    "Type variable tuples can be used in the same contexts as normal type variables. For example, in class definitions, arguments, and return types:\n"
   ]
  },
  {
   "cell_type": "code",
   "execution_count": null,
   "id": "ff387d11",
   "metadata": {},
   "outputs": [],
   "source": [
    "Shape = TypeVarTuple(\"Shape\")\n",
    "\n",
    "\n",
    "class Array(Generic[*Shape]):\n",
    "    def __getitem__(self, key: tuple[*Shape]) -> float:\n",
    "        ...\n",
    "\n",
    "    def __abs__(self) -> \"Array[*Shape]\":\n",
    "        ...\n",
    "\n",
    "    def get_shape(self) -> tuple[*Shape]:\n",
    "        ..."
   ]
  },
  {
   "cell_type": "markdown",
   "id": "080357c3",
   "metadata": {},
   "source": [
    "Type variable tuples can be happily combined with normal type variables:\n"
   ]
  },
  {
   "cell_type": "code",
   "execution_count": null,
   "id": "fcbe2628",
   "metadata": {},
   "outputs": [],
   "source": [
    "DType = TypeVar(\"DType\")\n",
    "Shape = TypeVarTuple(\"Shape\")\n",
    "\n",
    "\n",
    "class Array(Generic[DType, *Shape]):  # This is fine\n",
    "    pass\n",
    "\n",
    "\n",
    "class Array2(Generic[*Shape, DType]):  # This would also be fine\n",
    "    pass\n",
    "\n",
    "\n",
    "class Height:\n",
    "    ...\n",
    "\n",
    "\n",
    "class Width:\n",
    "    ...\n",
    "\n",
    "\n",
    "float_array_1d: Array[float, Height] = Array()  # Totally fine\n",
    "int_array_2d: Array[int, Height, Width] = Array()  # Yup, fine too"
   ]
  },
  {
   "cell_type": "markdown",
   "id": "17ebf060",
   "metadata": {},
   "source": [
    "However, note that at most one type variable tuple may appear in a single list of type arguments or type parameters:\n"
   ]
  },
  {
   "cell_type": "code",
   "execution_count": null,
   "id": "191c4486",
   "metadata": {},
   "outputs": [],
   "source": [
    "x: tuple[*Ts, *Ts]  # Not valid\n",
    "\n",
    "\n",
    "class Array(Generic[*Shape, *Shape]):  # Not valid\n",
    "    pass"
   ]
  },
  {
   "cell_type": "markdown",
   "id": "e312686f",
   "metadata": {},
   "source": [
    "Finally, an unpacked type variable tuple can be used as the type annotation of `*args`:\n"
   ]
  },
  {
   "cell_type": "code",
   "execution_count": null,
   "id": "88adf933",
   "metadata": {},
   "outputs": [],
   "source": [
    "def call_soon(callback: Callable[[*Ts], None], *args: *Ts) -> None:\n",
    "    ...\n",
    "    callback(*args)"
   ]
  },
  {
   "cell_type": "markdown",
   "id": "70e6faf9",
   "metadata": {},
   "source": [
    "In contrast to non-unpacked annotations of `*args` - e.g. `*args: int`, which would specify that _all_ arguments are `int` - `*args: *Ts` enables reference to the types of the _individual_ arguments in `*args`. Here, this allows us to ensure the types of the `*args` passed to `call_soon` match the types of the (positional) arguments of `callback`. See [PEP 646](https://peps.python.org/pep-0646/) for more details on type variable tuples.\n"
   ]
  },
  {
   "cell_type": "markdown",
   "id": "92df9b6e",
   "metadata": {},
   "source": [
    "**name**[¶](#typing.TypeVarTuple.__name__) The name of the type variable tuple.\n"
   ]
  },
  {
   "cell_type": "markdown",
   "id": "f73ebd80",
   "metadata": {},
   "source": [
    "_class_ typing.ParamSpec(_name_, _**,_ bound=None_,_ covariant=False_,_ contravariant=False*)[¶](#typing.ParamSpec) Parameter specification variable. A specialized version of [type variables](#typing.TypeVar). Usage:\n"
   ]
  },
  {
   "cell_type": "code",
   "execution_count": null,
   "id": "1d26d756",
   "metadata": {},
   "outputs": [],
   "source": [
    "P = ParamSpec(\"P\")"
   ]
  },
  {
   "cell_type": "markdown",
   "id": "aba43cfd",
   "metadata": {},
   "source": [
    "Parameter specification variables exist primarily for the benefit of static type checkers. They are used to forward the parameter types of one callable to another callable – a pattern commonly found in higher order functions and decorators. They are only valid when used in `Concatenate`, or as the first argument to `Callable`, or as parameters for user-defined Generics. See [Generic](#typing.Generic) for more information on generic types. For example, to add basic logging to a function, one can create a decorator `add_logging` to log function calls. The parameter specification variable tells the type checker that the callable passed into the decorator and the new callable returned by it have inter-dependent type parameters:\n"
   ]
  },
  {
   "cell_type": "code",
   "execution_count": null,
   "id": "e33bc669",
   "metadata": {},
   "outputs": [],
   "source": [
    "from collections.abc import Callable\n",
    "from typing import TypeVar, ParamSpec\n",
    "import logging\n",
    "\n",
    "T = TypeVar(\"T\")\n",
    "P = ParamSpec(\"P\")\n",
    "\n",
    "\n",
    "def add_logging(f: Callable[P, T]) -> Callable[P, T]:\n",
    "    \"\"\"A type-safe decorator to add logging to a function.\"\"\"\n",
    "\n",
    "    def inner(*args: P.args, **kwargs: P.kwargs) -> T:\n",
    "        logging.info(f\"{f.__name__} was called\")\n",
    "        return f(*args, **kwargs)\n",
    "\n",
    "    return inner\n",
    "\n",
    "\n",
    "@add_logging\n",
    "def add_two(x: float, y: float) -> float:\n",
    "    \"\"\"Add two numbers together.\"\"\"\n",
    "    return x + y"
   ]
  },
  {
   "cell_type": "markdown",
   "id": "f71982ce",
   "metadata": {},
   "source": [
    "Without `ParamSpec`, the simplest way to annotate this previously was to use a [TypeVar](#typing.TypeVar) with bound `Callable[..., Any]`. However this causes two problems:\n",
    "\n",
    "The type checker can't type check the `inner` function because `*args` and `**kwargs` have to be typed [Any](#typing.Any). [cast()](#typing.cast) may be required in the body of the `add_logging` decorator when returning the `inner` function, or the static type checker must be told to ignore the `return inner`.\n",
    "\n",
    "args[¶](#typing.ParamSpec.args)\n",
    "\n",
    "kwargs[¶](#typing.ParamSpec.kwargs) Since `ParamSpec` captures both positional and keyword parameters, `P.args` and `P.kwargs` can be used to split a `ParamSpec` into its components. `P.args` represents the tuple of positional parameters in a given call and should only be used to annotate `*args`. `P.kwargs` represents the mapping of keyword parameters to their values in a given call, and should be only be used to annotate `**kwargs`. Both attributes require the annotated parameter to be in scope. At runtime, `P.args` and `P.kwargs` are instances respectively of [ParamSpecArgs](#typing.ParamSpecArgs) and [ParamSpecKwargs](#typing.ParamSpecKwargs).\n"
   ]
  },
  {
   "cell_type": "markdown",
   "id": "20c549ab",
   "metadata": {},
   "source": [
    "typing.ParamSpecArgs[¶](#typing.ParamSpecArgs)\n",
    "\n",
    "typing.ParamSpecKwargs[¶](#typing.ParamSpecKwargs) Arguments and keyword arguments attributes of a [ParamSpec](#typing.ParamSpec). The `P.args` attribute of a `ParamSpec` is an instance of `ParamSpecArgs`, and `P.kwargs` is an instance of `ParamSpecKwargs`. They are intended for runtime introspection and have no special meaning to static type checkers. Calling [get_origin()](#typing.get_origin) on either of these objects will return the original `ParamSpec`:\n"
   ]
  },
  {
   "cell_type": "code",
   "execution_count": null,
   "id": "f909fd53",
   "metadata": {},
   "outputs": [],
   "source": [
    "from typing import ParamSpec, get_origin\n",
    "\n",
    "P = ParamSpec(\"P\")\n",
    "\n",
    "get_origin(P.args) is P"
   ]
  },
  {
   "cell_type": "code",
   "execution_count": null,
   "id": "bcc44322",
   "metadata": {},
   "outputs": [],
   "source": [
    "get_origin(P.kwargs) is P"
   ]
  },
  {
   "cell_type": "markdown",
   "id": "810b1e30",
   "metadata": {},
   "source": [
    "# Other special directives[¶](#other-special-directives)\n",
    "\n",
    "These functions and classes should not be used directly as annotations. Their intended purpose is to be building blocks for creating and declaring types.\n",
    "\n",
    "_class_ typing.NamedTuple[¶](#typing.NamedTuple) Typed version of [collections.namedtuple()](collections.html#collections.namedtuple). Usage:\n"
   ]
  },
  {
   "cell_type": "code",
   "execution_count": null,
   "id": "ca6d47c3",
   "metadata": {},
   "outputs": [],
   "source": [
    "from typing import NamedTuple\n",
    "\n",
    "\n",
    "class Employee(NamedTuple):\n",
    "    name: str\n",
    "    id: int"
   ]
  },
  {
   "cell_type": "markdown",
   "id": "f9c65416",
   "metadata": {},
   "source": [
    "This is equivalent to:\n"
   ]
  },
  {
   "cell_type": "code",
   "execution_count": null,
   "id": "2bad5e64",
   "metadata": {},
   "outputs": [],
   "source": [
    "import collections\n",
    "\n",
    "\n",
    "Employee = collections.namedtuple(\"Employee\", [\"name\", \"id\"])"
   ]
  },
  {
   "cell_type": "markdown",
   "id": "ef30698d",
   "metadata": {},
   "source": [
    "To give a field a default value, you can assign to it in the class body:\n"
   ]
  },
  {
   "cell_type": "code",
   "execution_count": null,
   "id": "5e531b48",
   "metadata": {},
   "outputs": [],
   "source": [
    "class Employee(NamedTuple):\n",
    "    name: str\n",
    "    id: int = 3\n",
    "\n",
    "\n",
    "employee = Employee(\"Guido\")\n",
    "assert employee.id == 3"
   ]
  },
  {
   "cell_type": "markdown",
   "id": "48dda511",
   "metadata": {},
   "source": [
    "Fields with a default value must come after any fields without a default. The resulting class has an extra attribute `__annotations__` giving a dict that maps the field names to the field types. (The field names are in the `_fields` attribute and the default values are in the `_field_defaults` attribute, both of which are part of the [namedtuple()](collections.html#collections.namedtuple) API.) `NamedTuple` subclasses can also have docstrings and methods:\n"
   ]
  },
  {
   "cell_type": "code",
   "execution_count": null,
   "id": "72f60b25",
   "metadata": {},
   "outputs": [],
   "source": [
    "class Employee(NamedTuple):\n",
    "    \"\"\"Represents an employee.\"\"\"\n",
    "\n",
    "    name: str\n",
    "    id: int = 3\n",
    "\n",
    "    def __repr__(self) -> str:\n",
    "        return f\"<Employee {self.name}, id={self.id}>\""
   ]
  },
  {
   "cell_type": "markdown",
   "id": "87cb2155",
   "metadata": {},
   "source": [
    "`NamedTuple` subclasses can be generic:\n"
   ]
  },
  {
   "cell_type": "code",
   "execution_count": null,
   "id": "8172e70e",
   "metadata": {},
   "outputs": [],
   "source": [
    "class Group(NamedTuple, Generic[T]):\n",
    "    key: T\n",
    "    group: list[T]"
   ]
  },
  {
   "cell_type": "markdown",
   "id": "8ae9a713",
   "metadata": {},
   "source": [
    "Backward-compatible usage:\n"
   ]
  },
  {
   "cell_type": "code",
   "execution_count": null,
   "id": "37b58a2e",
   "metadata": {},
   "outputs": [],
   "source": [
    "Employee = NamedTuple(\"Employee\", [(\"name\", str), (\"id\", int)])"
   ]
  },
  {
   "cell_type": "markdown",
   "id": "00e0d26b",
   "metadata": {},
   "source": [
    "_class_ typing.NewType(_name_, _tp_)[¶](#typing.NewType) Helper class to create low-overhead [distinct types](#distinct). A `NewType` is considered a distinct type by a typechecker. At runtime, however, calling a `NewType` returns its argument unchanged. Usage:\n"
   ]
  },
  {
   "cell_type": "code",
   "execution_count": null,
   "id": "6441ebe6",
   "metadata": {},
   "outputs": [],
   "source": [
    "UserId = NewType(\"UserId\", int)  # Declare the NewType \"UserId\"\n",
    "first_user = UserId(1)  # \"UserId\" returns the argument unchanged at runtime"
   ]
  },
  {
   "cell_type": "markdown",
   "id": "04161a63",
   "metadata": {},
   "source": [
    "**module**[¶](#typing.NewType.__module__) The module in which the new type is defined.\n",
    "\n",
    "**name**[¶](#typing.NewType.__name__) The name of the new type.\n",
    "\n",
    "**supertype**[¶](#typing.NewType.__supertype__) The type that the new type is based on.\n",
    "\n",
    "New in version 3.5.2.\n",
    "\n",
    "Changed in version 3.10: `NewType` is now a class rather than a function.\n",
    "\n",
    "_class_ typing.Protocol(_Generic_)[¶](#typing.Protocol) Base class for protocol classes. Protocol classes are defined like this:\n"
   ]
  },
  {
   "cell_type": "code",
   "execution_count": null,
   "id": "c9a44e49",
   "metadata": {},
   "outputs": [],
   "source": [
    "class Proto(Protocol):\n",
    "    def meth(self) -> int:\n",
    "        ..."
   ]
  },
  {
   "cell_type": "markdown",
   "id": "b7962f50",
   "metadata": {},
   "source": [
    "Such classes are primarily used with static type checkers that recognize structural subtyping (static duck-typing), for example:\n"
   ]
  },
  {
   "cell_type": "code",
   "execution_count": null,
   "id": "65bbb727",
   "metadata": {},
   "outputs": [],
   "source": [
    "class C:\n",
    "    def meth(self) -> int:\n",
    "        return 0\n",
    "\n",
    "\n",
    "def func(x: Proto) -> int:\n",
    "    return x.meth()\n",
    "\n",
    "\n",
    "func(C())  # Passes static type check"
   ]
  },
  {
   "cell_type": "markdown",
   "id": "54f936bf",
   "metadata": {},
   "source": [
    "See [PEP 544](https://peps.python.org/pep-0544/) for more details. Protocol classes decorated with [runtime_checkable()](#typing.runtime_checkable) (described later) act as simple-minded runtime protocols that check only the presence of given attributes, ignoring their type signatures. Protocol classes can be generic, for example:\n"
   ]
  },
  {
   "cell_type": "code",
   "execution_count": null,
   "id": "d137b74a",
   "metadata": {},
   "outputs": [],
   "source": [
    "T = TypeVar(\"T\")\n",
    "\n",
    "\n",
    "class GenProto(Protocol[T]):\n",
    "    def meth(self) -> T:\n",
    "        ..."
   ]
  },
  {
   "cell_type": "markdown",
   "id": "f0dcd05a",
   "metadata": {},
   "source": [
    "@typing.runtime_checkable[¶](#typing.runtime_checkable) Mark a protocol class as a runtime protocol. Such a protocol can be used with [isinstance()](functions.html#isinstance) and [issubclass()](functions.html#issubclass). This raises [TypeError](exceptions.html#TypeError) when applied to a non-protocol class. This allows a simple-minded structural check, very similar to \"one trick ponies\" in [collections.abc](collections.abc.html#module-collections.abc) such as [Iterable](collections.abc.html#collections.abc.Iterable). For example:\n"
   ]
  },
  {
   "cell_type": "code",
   "execution_count": null,
   "id": "8db3f577",
   "metadata": {},
   "outputs": [],
   "source": [
    "from typing import runtime_checkable\n",
    "\n",
    "\n",
    "@runtime_checkable\n",
    "class Closable(Protocol):\n",
    "    def close(self):\n",
    "        ...\n",
    "\n",
    "\n",
    "assert isinstance(open(\"/some/file\"), Closable)\n",
    "\n",
    "\n",
    "@runtime_checkable\n",
    "class Named(Protocol):\n",
    "    name: str\n",
    "\n",
    "\n",
    "import threading\n",
    "\n",
    "assert isinstance(threading.Thread(name=\"Bob\"), Named)"
   ]
  },
  {
   "cell_type": "markdown",
   "id": "cd377743",
   "metadata": {},
   "source": [
    "<div style=\"background-color: #e6d3a3; border-radius: 10px; padding: 20px; margin-top: 10px; margin-bottom: 10px\"><strong>Note</strong>\n",
    "\n",
    "<code>runtime<em>checkable()</em></code><em> will check only the presence of the required\n",
    "methods or attributes, not their type signatures or types.\n",
    "For example, <a href=\"ssl.html#ssl.SSLObject\">ssl.SSLObject</a>\n",
    "is a class, therefore it passes an <a href=\"functions.html#issubclass\">issubclass()</a>\n",
    "check against <a href=\"#annotating-callables\">Callable</a>. However, the\n",
    "<code>ssl.SSLObject.<em>_init</em></code></em> method exists only to raise a\n",
    "<a href=\"exceptions.html#TypeError\">TypeError</a> with a more informative message, therefore making\n",
    "it impossible to call (instantiate) <a href=\"ssl.html#ssl.SSLObject\">ssl.SSLObject</a>.</div>\n",
    "\n",
    "<div style=\"background-color: #e6d3a3; border-radius: 10px; padding: 20px; margin-top: 10px; margin-bottom: 10px\"><strong>Note</strong>\n",
    "\n",
    "An <a href=\"functions.html#isinstance\">isinstance()</a> check against a runtime-checkable protocol can be\n",
    "surprisingly slow compared to an <code>isinstance()</code> check against\n",
    "a non-protocol class. Consider using alternative idioms such as\n",
    "<a href=\"functions.html#hasattr\">hasattr()</a> calls for structural checks in performance-sensitive\n",
    "code.</div>\n"
   ]
  },
  {
   "cell_type": "markdown",
   "id": "b9988be5",
   "metadata": {},
   "source": [
    "_class_ typing.TypedDict(_dict_)[¶](#typing.TypedDict) Special construct to add type hints to a dictionary. At runtime it is a plain [dict](stdtypes.html#dict). `TypedDict` declares a dictionary type that expects all of its instances to have a certain set of keys, where each key is associated with a value of a consistent type. This expectation is not checked at runtime but is only enforced by type checkers. Usage:\n"
   ]
  },
  {
   "cell_type": "code",
   "execution_count": null,
   "id": "fff7e47f",
   "metadata": {},
   "outputs": [],
   "source": [
    "from typing import TypedDict\n",
    "\n",
    "\n",
    "class Point2D(TypedDict):\n",
    "    x: int\n",
    "    y: int\n",
    "    label: str\n",
    "\n",
    "\n",
    "a: Point2D = {\"x\": 1, \"y\": 2, \"label\": \"good\"}  # OK\n",
    "b: Point2D = {\"z\": 3, \"label\": \"bad\"}  # Fails type check\n",
    "\n",
    "assert Point2D(x=1, y=2, label=\"first\") == dict(x=1, y=2, label=\"first\")"
   ]
  },
  {
   "cell_type": "markdown",
   "id": "e5205a00",
   "metadata": {},
   "source": [
    "To allow using this feature with older versions of Python that do not support [PEP 526](https://peps.python.org/pep-0526/), `TypedDict` supports two additional equivalent syntactic forms:\n",
    "\n",
    "- Using a literal [dict](stdtypes.html#dict) as the second argument:\n"
   ]
  },
  {
   "cell_type": "code",
   "execution_count": null,
   "id": "791015ea",
   "metadata": {},
   "outputs": [],
   "source": [
    "Point2D = TypedDict(\"Point2D\", {\"x\": int, \"y\": int, \"label\": str})"
   ]
  },
  {
   "cell_type": "markdown",
   "id": "63b9db4d",
   "metadata": {},
   "source": [
    "- Using keyword arguments:\n"
   ]
  },
  {
   "cell_type": "code",
   "execution_count": null,
   "id": "c861e6db",
   "metadata": {},
   "outputs": [],
   "source": [
    "Point2D = TypedDict(\"Point2D\", x=int, y=int, label=str)"
   ]
  },
  {
   "cell_type": "markdown",
   "id": "319ad5f5",
   "metadata": {},
   "source": [
    "Deprecated since version 3.11, will be removed in version 3.13: The keyword-argument syntax is deprecated in 3.11 and will be removed in 3.13\\. It may also be unsupported by static type checkers.\n",
    "\n",
    "The functional syntax should also be used when any of the keys are not valid [identifiers](../reference/lexical_analysis.html#identifiers), for example because they are keywords or contain hyphens. Example:\n"
   ]
  },
  {
   "cell_type": "code",
   "execution_count": null,
   "id": "e6c7568e",
   "metadata": {},
   "outputs": [],
   "source": [
    "# raises SyntaxError\n",
    "class Point2D(TypedDict):\n",
    "    in: int  # 'in' is a keyword\n",
    "    x-y: int  # name with hyphens\n",
    "\n",
    "# OK, functional syntax\n",
    "Point2D = TypedDict('Point2D', {'in': int, 'x-y': int})"
   ]
  },
  {
   "cell_type": "markdown",
   "id": "48271a30",
   "metadata": {},
   "source": [
    "By default, all keys must be present in a `TypedDict`. It is possible to mark individual keys as non-required using [NotRequired](#typing.NotRequired):\n"
   ]
  },
  {
   "cell_type": "code",
   "execution_count": null,
   "id": "4b4b25c9",
   "metadata": {},
   "outputs": [],
   "source": [
    "from typing import NotRequired\n",
    "\n",
    "\n",
    "class Point2D(TypedDict):\n",
    "    x: int\n",
    "    y: int\n",
    "    label: NotRequired[str]\n",
    "\n",
    "\n",
    "# Alternative syntax\n",
    "Point2D = TypedDict(\"Point2D\", {\"x\": int, \"y\": int, \"label\": NotRequired[str]})"
   ]
  },
  {
   "cell_type": "markdown",
   "id": "597d40d5",
   "metadata": {},
   "source": [
    "This means that a `Point2D` `TypedDict` can have the `label` key omitted. It is also possible to mark all keys as non-required by default by specifying a totality of `False`:\n"
   ]
  },
  {
   "cell_type": "code",
   "execution_count": null,
   "id": "ecf363d6",
   "metadata": {},
   "outputs": [],
   "source": [
    "class Point2D(TypedDict, total=False):\n",
    "    x: int\n",
    "    y: int\n",
    "\n",
    "\n",
    "# Alternative syntax\n",
    "Point2D = TypedDict(\"Point2D\", {\"x\": int, \"y\": int}, total=False)"
   ]
  },
  {
   "cell_type": "markdown",
   "id": "d17dafe3",
   "metadata": {},
   "source": [
    "This means that a `Point2D` `TypedDict` can have any of the keys omitted. A type checker is only expected to support a literal `False` or `True` as the value of the `total` argument. `True` is the default, and makes all items defined in the class body required. Individual keys of a `total=False` `TypedDict` can be marked as required using [Required](#typing.Required):\n"
   ]
  },
  {
   "cell_type": "code",
   "execution_count": null,
   "id": "719e5aa3",
   "metadata": {},
   "outputs": [],
   "source": [
    "from typing import Required\n",
    "\n",
    "\n",
    "class Point2D(TypedDict, total=False):\n",
    "    x: Required[int]\n",
    "    y: Required[int]\n",
    "    label: str\n",
    "\n",
    "\n",
    "# Alternative syntax\n",
    "Point2D = TypedDict(\n",
    "    \"Point2D\", {\"x\": Required[int], \"y\": Required[int], \"label\": str}, total=False\n",
    ")"
   ]
  },
  {
   "cell_type": "markdown",
   "id": "9a3d9a69",
   "metadata": {},
   "source": [
    "It is possible for a `TypedDict` type to inherit from one or more other `TypedDict` types using the class-based syntax. Usage:\n"
   ]
  },
  {
   "cell_type": "code",
   "execution_count": null,
   "id": "22f8234d",
   "metadata": {},
   "outputs": [],
   "source": [
    "class Point3D(Point2D):\n",
    "    z: int"
   ]
  },
  {
   "cell_type": "markdown",
   "id": "372868c3",
   "metadata": {},
   "source": [
    "`Point3D` has three items: `x`, `y` and `z`. It is equivalent to this definition:\n"
   ]
  },
  {
   "cell_type": "code",
   "execution_count": null,
   "id": "cb8f669d",
   "metadata": {},
   "outputs": [],
   "source": [
    "class Point3D(TypedDict):\n",
    "    x: int\n",
    "    y: int\n",
    "    z: int"
   ]
  },
  {
   "cell_type": "markdown",
   "id": "fc58d60a",
   "metadata": {},
   "source": [
    "A `TypedDict` cannot inherit from a non-`TypedDict` class, except for [Generic](#typing.Generic). For example:\n"
   ]
  },
  {
   "cell_type": "code",
   "execution_count": null,
   "id": "07d5021c",
   "metadata": {},
   "outputs": [],
   "source": [
    "class X(TypedDict):\n",
    "    x: int\n",
    "\n",
    "\n",
    "class Y(TypedDict):\n",
    "    y: int\n",
    "\n",
    "\n",
    "class Z(object):\n",
    "    pass  # A non-TypedDict class\n",
    "\n",
    "\n",
    "class XY(X, Y):\n",
    "    pass  # OK\n",
    "\n",
    "\n",
    "class XZ(X, Z):\n",
    "    pass  # raises TypeError"
   ]
  },
  {
   "cell_type": "markdown",
   "id": "8cc1d4fb",
   "metadata": {},
   "source": [
    "A `TypedDict` can be generic:\n"
   ]
  },
  {
   "cell_type": "code",
   "execution_count": null,
   "id": "ab3e9756",
   "metadata": {},
   "outputs": [],
   "source": [
    "T = TypeVar(\"T\")\n",
    "\n",
    "\n",
    "class Group(TypedDict, Generic[T]):\n",
    "    key: T\n",
    "    group: list[T]"
   ]
  },
  {
   "cell_type": "markdown",
   "id": "22948410",
   "metadata": {},
   "source": [
    "A `TypedDict` can be introspected via annotations dicts (see [Annotations Best Practices](../howto/annotations.html#annotations-howto) for more information on annotations best practices), [**total**](#typing.TypedDict.__total__), [**required_keys**](#typing.TypedDict.__required_keys__), and [**optional_keys**](#typing.TypedDict.__optional_keys__).total[¶](#typing.TypedDict.__total__) `Point2D.__total__` gives the value of the `total` argument. Example:\n"
   ]
  },
  {
   "cell_type": "code",
   "execution_count": null,
   "id": "28206cb1",
   "metadata": {},
   "outputs": [],
   "source": [
    "from typing import TypedDict\n",
    "\n",
    "\n",
    "class Point2D(TypedDict):\n",
    "    pass\n",
    "\n",
    "\n",
    "Point2D.total"
   ]
  },
  {
   "cell_type": "code",
   "execution_count": null,
   "id": "e17b70e0",
   "metadata": {},
   "outputs": [],
   "source": [
    "class Point2D(TypedDict, total=False):\n",
    "    pass\n",
    "\n",
    "\n",
    "Point2D.total"
   ]
  },
  {
   "cell_type": "code",
   "execution_count": null,
   "id": "ebcc8fdb",
   "metadata": {},
   "outputs": [],
   "source": [
    "class Point3D(Point2D):\n",
    "    pass\n",
    "\n",
    "\n",
    "Point3D.total"
   ]
  },
  {
   "cell_type": "markdown",
   "id": "cd61041e",
   "metadata": {},
   "source": [
    "**required_keys**[¶](#typing.TypedDict.__required_keys__)\n",
    "\n",
    "New in version 3.9.\n",
    "\n",
    "**optional_keys**[¶](#typing.TypedDict.__optional_keys__) `Point2D.__required_keys__` and `Point2D.__optional_keys__` return [frozenset](stdtypes.html#frozenset) objects containing required and non-required keys, respectively. Keys marked with [Required](#typing.Required) will always appear in `__required_keys__` and keys marked with [NotRequired](#typing.NotRequired) will always appear in `__optional_keys__`. For backwards compatibility with Python 3.10 and below, it is also possible to use inheritance to declare both required and non-required keys in the same `TypedDict` . This is done by declaring a `TypedDict` with one value for the `total` argument and then inheriting from it in another `TypedDict` with a different value for `total`:\n"
   ]
  },
  {
   "cell_type": "code",
   "execution_count": null,
   "id": "8908a836",
   "metadata": {},
   "outputs": [],
   "source": [
    "class Point2D(TypedDict, total=False):\n",
    "    ...\n",
    "\n",
    "\n",
    "x: int\n",
    "y: int\n",
    "\n",
    "\n",
    "class Point3D(Point2D):\n",
    "    ...\n",
    "\n",
    "\n",
    "z: int\n",
    "\n",
    "Point3D.required_keys == frozenset({\"z\"})"
   ]
  },
  {
   "cell_type": "code",
   "execution_count": null,
   "id": "42b63f37",
   "metadata": {},
   "outputs": [],
   "source": [
    "Point3D.optional_keys == frozenset({\"x\", \"y\"})"
   ]
  },
  {
   "cell_type": "markdown",
   "id": "77432a9e",
   "metadata": {},
   "source": [
    "# Protocols[¶](#protocols)\n",
    "\n",
    "The following protocols are provided by the typing module. All are decorated with [@runtime_checkable](#typing.runtime_checkable).\n",
    "\n",
    "- `typing.SupportsAbs`[¶](#typing.SupportsAbs) An ABC with one abstract method `__abs__` that is covariant in its return type.\n",
    "\n",
    "- `typing.SupportsBytes`[¶](#typing.SupportsBytes) An ABC with one abstract method `__bytes__`.\n",
    "\n",
    "- `typing.SupportsComplex`[¶](#typing.SupportsComplex) An ABC with one abstract method `__complex__`.\n",
    "\n",
    "- `typing.SupportsFloat`[¶](#typing.SupportsFloat) An ABC with one abstract method `__float__`.\n",
    "\n",
    "- `typing.SupportsIndex`[¶](#typing.SupportsIndex) An ABC with one abstract method `__index__`.\n",
    "\n",
    "New in version 3.8.\n",
    "\n",
    "- `typing.SupportsInt`[¶](#typing.SupportsInt) An ABC with one abstract method `__int__`.\n",
    "\n",
    "- `typing.SupportsRound`[¶](#typing.SupportsRound) An ABC with one abstract method `__round__` that is covariant in its return type.\n",
    "\n",
    "# ABCs for working with IO[¶](#abcs-for-working-with-io)\n",
    "\n",
    "- `typing.IO`[¶](#typing.IO)\n",
    "\n",
    "- `typing.TextIO`[¶](#typing.TextIO)\n",
    "\n",
    "- `typing.BinaryIO`[¶](#typing.BinaryIO) Generic type `IO[AnyStr]` and its subclasses `TextIO(IO[str])` and `BinaryIO(IO[bytes])` represent the types of I/O streams such as returned by [open()](functions.html#open).\n",
    "\n",
    "# Functions and decorators[¶](#functions-and-decorators)\n",
    "\n",
    "`typing.cast(_typ_, _val_)`[¶](#typing.cast) Cast a value to a type. This returns the value unchanged. To the type checker this signals that the return value has the designated type, but at runtime we intentionally don't check anything (we want this to be as fast as possible).\n",
    "\n",
    "`typing.assert_type(_val_, _typ_, _/_)`[¶](#typing.assert_type) Ask a static type checker to confirm that _val_ has an inferred type of _typ_. At runtime this does nothing: it returns the first argument unchanged with no checks or side effects, no matter the actual type of the argument. When a static type checker encounters a call to `assert_type()`, it emits an error if the value is not of the specified type:\n"
   ]
  },
  {
   "cell_type": "code",
   "execution_count": null,
   "id": "79d9a474",
   "metadata": {},
   "outputs": [],
   "source": [
    "from typing import assert_type\n",
    "\n",
    "\n",
    "def greet(name: str) -> None:\n",
    "    assert_type(name, str)  # OK, inferred type of `name` is `str`\n",
    "    assert_type(name, int)  # type checker error"
   ]
  },
  {
   "cell_type": "markdown",
   "id": "26d6fb50",
   "metadata": {},
   "source": [
    "This function is useful for ensuring the type checker's understanding of a script is in line with the developer's intentions:\n"
   ]
  },
  {
   "cell_type": "code",
   "execution_count": null,
   "id": "d273cfa6",
   "metadata": {},
   "outputs": [],
   "source": [
    "def complex_function(arg: object):\n",
    "    # Do some complex type-narrowing logic,\n",
    "    # after which we hope the inferred type will be `int`\n",
    "    ...\n",
    "    # Test whether the type checker correctly understands our function\n",
    "    assert_type(arg, int)"
   ]
  },
  {
   "cell_type": "code",
   "execution_count": null,
   "id": "dd1c285d",
   "metadata": {},
   "outputs": [],
   "source": [
    "from typing import assert_never\n",
    "\n",
    "\n",
    "def int_or_str(arg: int | str) -> None:\n",
    "    match arg:\n",
    "        case int():\n",
    "            print(\"It's an int\")\n",
    "        case str():\n",
    "            print(\"It's a str\")\n",
    "        case _ as unreachable:\n",
    "            assert_never(unreachable)"
   ]
  },
  {
   "cell_type": "markdown",
   "id": "090f28ab",
   "metadata": {},
   "source": [
    "Here, the annotations allow the type checker to infer that the last case can never execute, because `arg` is either an [int](functions.html#int) or a [str](stdtypes.html#str), and both options are covered by earlier cases. If a type checker finds that a call to `assert_never()` is reachable, it will emit an error. For example, if the type annotation for `arg` was instead `int | str | float`, the type checker would emit an error pointing out that `unreachable` is of type [float](functions.html#float). For a call to `assert_never` to pass type checking, the inferred type of the argument passed in must be the bottom type, [Never](#typing.Never), and nothing else. At runtime, this throws an exception when called.\n",
    "\n",
    "<div style=\"background-color: #a2e8dd; border-radius: 10px; padding: 20px; margin-top: 10px; margin-bottom: 10px\"><strong>See also</strong>\n",
    "\n",
    "<a href=\"https://typing.readthedocs.io/en/latest/source/unreachable.html\">Unreachable Code and Exhaustiveness Checking</a> has more\n",
    "information about exhaustiveness checking with static typing.</div>\n",
    "\n",
    "New in version 3.11.\n",
    "\n",
    "typing.reveal_type(_obj_, _/_)[¶](#typing.reveal_type) Reveal the inferred static type of an expression. When a static type checker encounters a call to this function, it emits a diagnostic with the type of the argument. For example:\n"
   ]
  },
  {
   "cell_type": "code",
   "execution_count": null,
   "id": "95b15d47",
   "metadata": {},
   "outputs": [],
   "source": [
    "x: int = 1\n",
    "reveal_type(x)  # Revealed type is \"builtins.int\""
   ]
  },
  {
   "cell_type": "markdown",
   "id": "647c38a2",
   "metadata": {},
   "source": [
    "This can be useful when you want to debug how your type checker handles a particular piece of code. The function returns its argument unchanged, which allows using it within an expression:\n"
   ]
  },
  {
   "cell_type": "code",
   "execution_count": null,
   "id": "e287dd3b",
   "metadata": {},
   "outputs": [],
   "source": [
    "x = reveal_type(1)  # Revealed type is \"builtins.int\""
   ]
  },
  {
   "cell_type": "markdown",
   "id": "b15ad3f1",
   "metadata": {},
   "source": [
    "Most type checkers support `reveal_type()` anywhere, even if the name is not imported from `typing`. Importing the name from `typing` allows your code to run without runtime errors and communicates intent more clearly. At runtime, this function prints the runtime type of its argument to stderr and returns it unchanged:\n"
   ]
  },
  {
   "cell_type": "code",
   "execution_count": null,
   "id": "18ee22aa",
   "metadata": {},
   "outputs": [],
   "source": [
    "x = reveal_type(1)  # prints \"Runtime type is int\"\n",
    "print(x)  # prints \"1\""
   ]
  },
  {
   "cell_type": "markdown",
   "id": "f3801384",
   "metadata": {},
   "source": [
    "New in version 3.11.\n",
    "\n",
    "@typing.dataclass_transform(**_, _eq_default=True_, _order_default=False_, _kw_only_default=False_, _field_specifiers=()_,__* kwargs_)[¶](#typing.dataclass_transform) Decorator to mark an object as providing [dataclass](dataclasses.html#dataclasses.dataclass)-like behavior. `dataclass_transform` may be used to decorate a class, metaclass, or a function that is itself a decorator. The presence of `@dataclass_transform()` tells a static type checker that the decorated object performs runtime \"magic\" that transforms a class in a similar way to [@dataclasses.dataclass](dataclasses.html#dataclasses.dataclass). Example usage with a decorator function:\n"
   ]
  },
  {
   "cell_type": "code",
   "execution_count": null,
   "id": "151420aa",
   "metadata": {},
   "outputs": [],
   "source": [
    "from typing import dataclass_transform\n",
    "\n",
    "\n",
    "T = TypeVar(\"T\")\n",
    "\n",
    "\n",
    "@dataclass_transform()\n",
    "def create_model(cls: type[T]) -> type[T]:\n",
    "    ...\n",
    "    return cls\n",
    "\n",
    "\n",
    "@create_model\n",
    "class CustomerModel:\n",
    "    id: int\n",
    "    name: str"
   ]
  },
  {
   "cell_type": "markdown",
   "id": "0024d5bc",
   "metadata": {},
   "source": [
    "On a base class:\n"
   ]
  },
  {
   "cell_type": "code",
   "execution_count": null,
   "id": "c7f02f63",
   "metadata": {},
   "outputs": [],
   "source": [
    "@dataclass_transform()\n",
    "class ModelBase:\n",
    "    ...\n",
    "\n",
    "\n",
    "class CustomerModel(ModelBase):\n",
    "    id: int\n",
    "    name: str"
   ]
  },
  {
   "cell_type": "markdown",
   "id": "98b92457",
   "metadata": {},
   "source": [
    "On a metaclass:\n"
   ]
  },
  {
   "cell_type": "code",
   "execution_count": null,
   "id": "cf71ece6",
   "metadata": {},
   "outputs": [],
   "source": [
    "@dataclass_transform()\n",
    "class ModelMeta(type):\n",
    "    ...\n",
    "\n",
    "\n",
    "class ModelBase(metaclass=ModelMeta):\n",
    "    ...\n",
    "\n",
    "\n",
    "class CustomerModel(ModelBase):\n",
    "    id: int\n",
    "    name: str"
   ]
  },
  {
   "cell_type": "markdown",
   "id": "3bb9e49c",
   "metadata": {},
   "source": [
    "The `CustomerModel` classes defined above will be treated by type checkers similarly to classes created with [@dataclasses.dataclass](dataclasses.html#dataclasses.dataclass). For example, type checkers will assume these classes have `__init__` methods that accept `id` and `name`. The decorated class, metaclass, or function may accept the following bool arguments which type checkers will assume have the same effect as they would have on the [@dataclasses.dataclass](dataclasses.html#dataclasses.dataclass) decorator: `init`, `eq`, `order`, `unsafe_hash`, `frozen`, `match_args`, `kw_only`, and `slots`. It must be possible for the value of these arguments (`True` or `False`) to be statically evaluated. The arguments to the `dataclass_transform` decorator can be used to customize the default behaviors of the decorated class, metaclass, or function:\n",
    "\n",
    "Parameters\n",
    "\n",
    "- eq_default ([bool](functions.html#bool)) – Indicates whether the `eq` parameter is assumed to be `True` or `False` if it is omitted by the caller. Defaults to `True`.\n",
    "\n",
    "- order_default ([bool](functions.html#bool)) – Indicates whether the `order` parameter is assumed to be `True` or `False` if it is omitted by the caller. Defaults to `False`.\n",
    "\n",
    "- kw_only_default ([bool](functions.html#bool)) – Indicates whether the `kw_only` parameter is assumed to be `True` or `False` if it is omitted by the caller. Defaults to `False`.\n",
    "\n",
    "- field_specifiers ([tuple](stdtypes.html#tuple)[[Callable](collections.abc.html#collections.abc.Callable)[..., Any], ...]) – Specifies a static list of supported classes or functions that describe fields, similar to [dataclasses.field()](dataclasses.html#dataclasses.field). Defaults to `()`.\n",
    "\n",
    "- **kwargs (Any) – Arbitrary other keyword arguments are accepted in order to allow for possible future extensions.\n",
    "\n",
    "Type checkers recognize the following optional parameters on field specifiers:\n",
    "\n",
    "**Recognised parameters for field specifiers**[¶](#id6)\n",
    "\n",
    "Parameter name Description\n",
    "\n",
    "`init` Indicates whether the field should be included in the synthesized `__init__` method. If unspecified, `init` defaults to `True`.\n",
    "\n",
    "`default` Provides the default value for the field.\n",
    "\n",
    "`default_factory` Provides a runtime callback that returns the default value for the field. If neither `default` nor `default_factory` are specified, the field is assumed to have no default value and must be provided a value when the class is instantiated.\n",
    "\n",
    "`factory` An alias for the `default_factory` parameter on field specifiers.\n",
    "\n",
    "`kw_only` Indicates whether the field should be marked as keyword-only. If `True`, the field will be keyword-only. If `False`, it will not be keyword-only. If unspecified, the value of the `kw_only` parameter on the object decorated with `dataclass_transform` will be used, or if that is unspecified, the value of `kw_only_default` on `dataclass_transform` will be used.\n",
    "\n",
    "`alias` Provides an alternative name for the field. This alternative name is used in the synthesized `__init__` method.\n",
    "\n",
    "At runtime, this decorator records its arguments in the `__dataclass_transform__` attribute on the decorated object. It has no other runtime effect. See [PEP 681](https://peps.python.org/pep-0681/) for more details.\n",
    "\n",
    "New in version 3.11.\n",
    "\n",
    "@typing.overload[¶](#typing.overload) Decorator for creating overloaded functions and methods. The `@overload` decorator allows describing functions and methods that support multiple different combinations of argument types. A series of `@overload`-decorated definitions must be followed by exactly one non-`@overload`-decorated definition (for the same function/method). `@overload`-decorated definitions are for the benefit of the type checker only, since they will be overwritten by the non-`@overload`-decorated definition. The non-`@overload`-decorated definition, meanwhile, will be used at runtime but should be ignored by a type checker. At runtime, calling an `@overload`-decorated function directly will raise [NotImplementedError](exceptions.html#NotImplementedError). An example of overload that gives a more precise type than can be expressed using a union or a type variable:\n"
   ]
  },
  {
   "cell_type": "code",
   "execution_count": null,
   "id": "cceb7a98",
   "metadata": {},
   "outputs": [],
   "source": [
    "from typing import overload\n",
    "\n",
    "\n",
    "@overload\n",
    "def process(response: None) -> None:\n",
    "    ...\n",
    "\n",
    "\n",
    "@overload\n",
    "def process(response: int) -> tuple[int, str]:\n",
    "    ...\n",
    "\n",
    "\n",
    "@overload\n",
    "def process(response: bytes) -> str:\n",
    "    ...\n",
    "\n",
    "\n",
    "def process(response):\n",
    "    ...  # actual implementation goes here"
   ]
  },
  {
   "cell_type": "markdown",
   "id": "0068ec7a",
   "metadata": {},
   "source": [
    "See [PEP 484](https://peps.python.org/pep-0484/) for more details and comparison with other typing semantics.\n"
   ]
  },
  {
   "cell_type": "markdown",
   "id": "0ca52ec3",
   "metadata": {},
   "source": [
    "typing.get_overloads(_func_)[¶](#typing.get_overloads) Return a sequence of [@overload](#typing.overload)-decorated definitions for _func_. _func_ is the function object for the implementation of the overloaded function. For example, given the definition of `process` in the documentation for [@overload](#typing.overload), `get_overloads(process)` will return a sequence of three function objects for the three defined overloads. If called on a function with no overloads, `get_overloads()` returns an empty sequence. `get_overloads()` can be used for introspecting an overloaded function at runtime.\n"
   ]
  },
  {
   "cell_type": "markdown",
   "id": "2d94dc51",
   "metadata": {},
   "source": [
    "typing.clear_overloads()[¶](#typing.clear_overloads) Clear all registered overloads in the internal registry. This can be used to reclaim the memory used by the registry.\n"
   ]
  },
  {
   "cell_type": "markdown",
   "id": "28bd963d",
   "metadata": {},
   "source": [
    "@typing.final[¶](#typing.final) Decorator to indicate final methods and final classes. Decorating a method with `@final` indicates to a type checker that the method cannot be overridden in a subclass. Decorating a class with `@final` indicates that it cannot be subclassed. For example:\n"
   ]
  },
  {
   "cell_type": "code",
   "execution_count": null,
   "id": "aa1b07d6",
   "metadata": {},
   "outputs": [],
   "source": [
    "from typing import final\n",
    "\n",
    "\n",
    "class Base:\n",
    "    @final\n",
    "    def done(self) -> None:\n",
    "        ...\n",
    "\n",
    "\n",
    "class Sub(Base):\n",
    "    def done(self) -> None:  # Error reported by type checker\n",
    "        ...\n",
    "\n",
    "\n",
    "@final\n",
    "class Leaf:\n",
    "    ...\n",
    "\n",
    "\n",
    "class Other(Leaf):  # Error reported by type checker\n",
    "    ..."
   ]
  },
  {
   "cell_type": "markdown",
   "id": "aa79971c",
   "metadata": {},
   "source": [
    "\n"
   ]
  },
  {
   "cell_type": "code",
   "execution_count": null,
   "id": "1d675b04",
   "metadata": {},
   "outputs": [],
   "source": [
    "from typing import type_check_only\n",
    "\n",
    "\n",
    "@type_check_only\n",
    "class Response:  # private or not available at runtime\n",
    "    code: int\n",
    "\n",
    "    def get_header(self, name: str) -> str:\n",
    "        ...\n",
    "\n",
    "\n",
    "def fetch_response() -> Response:\n",
    "    ..."
   ]
  },
  {
   "cell_type": "markdown",
   "id": "ab636620",
   "metadata": {},
   "source": [
    "Note that returning instances of private classes is not recommended. It is usually preferable to make such classes public.\n",
    "\n",
    "# Introspection helpers[¶](#introspection-helpers)\n",
    "\n",
    "typing.get_type_hints(_obj_, _globalns=None_, _localns=None_, _include_extras=False_)[¶](#typing.get_type_hints) Return a dictionary containing type hints for a function, method, module or class object. This is often the same as `obj.__annotations__`. In addition, forward references encoded as string literals are handled by evaluating them in `globals` and `locals` namespaces. For a class `C`, return a dictionary constructed by merging all the `__annotations__` along `C.__mro__`in reverse order. The function recursively replaces all`Annotated[T, ...]`with`T`, unless`include_extras`is set to`True` (see [Annotated](#typing.Annotated) for more information). For example:\n"
   ]
  },
  {
   "cell_type": "code",
   "execution_count": null,
   "id": "b49c5483",
   "metadata": {},
   "outputs": [],
   "source": [
    "class Student(NamedTuple):\n",
    "    name: Annotated[str, \"some marker\"]\n",
    "\n",
    "\n",
    "assert get_type_hints(Student) == {\"name\": str}\n",
    "assert get_type_hints(Student, include_extras=False) == {\"name\": str}\n",
    "assert get_type_hints(Student, include_extras=True) == {\n",
    "    \"name\": Annotated[str, \"some marker\"]\n",
    "}"
   ]
  },
  {
   "cell_type": "markdown",
   "id": "5c404b70",
   "metadata": {},
   "source": [
    "<div style=\"background-color: #e6d3a3; border-radius: 10px; padding: 20px; margin-top: 10px; margin-bottom: 10px\"><strong>Note</strong>\n",
    "\n",
    "<a href=\"#typing.get_type_hints\">get_type_hints()</a> does not work with imported\n",
    "<a href=\"#type-aliases\">type aliases</a> that include forward references.\n",
    "Enabling postponed evaluation of annotations (<a href=\"https://peps.python.org/pep-0563/\">PEP 563</a>) may remove\n",
    "the need for most forward references.</div>\n",
    "\n",
    "Changed in version 3.9: Added `include_extras` parameter as part of [PEP 593](https://peps.python.org/pep-0593/). See the documentation on [Annotated](#typing.Annotated) for more information.\n",
    "\n",
    "Changed in version 3.11: Previously, `Optional[t]` was added for function and method annotations if a default value equal to `None` was set. Now the annotation is returned unchanged.\n",
    "\n",
    "typing.get_origin(_tp_)[¶](#typing.get_origin) Get the unsubscripted version of a type: for a typing object of the form `X[Y, Z, ...]` return `X`. If `X` is a typing-module alias for a builtin or [collections](collections.html#module-collections) class, it will be normalized to the original class. If `X` is an instance of [ParamSpecArgs](#typing.ParamSpecArgs) or [ParamSpecKwargs](#typing.ParamSpecKwargs), return the underlying [ParamSpec](#typing.ParamSpec). Return `None` for unsupported objects. Examples:\n"
   ]
  },
  {
   "cell_type": "code",
   "execution_count": null,
   "id": "5e7318f6",
   "metadata": {},
   "outputs": [],
   "source": [
    "from typing import Dict\n",
    "\n",
    "\n",
    "assert get_origin(str) is None\n",
    "assert get_origin(Dict[str, int]) is dict\n",
    "assert get_origin(Union[int, str]) is Union\n",
    "P = ParamSpec(\"P\")\n",
    "assert get_origin(P.args) is P\n",
    "assert get_origin(P.kwargs) is P"
   ]
  },
  {
   "cell_type": "markdown",
   "id": "ec2e4743",
   "metadata": {},
   "source": [
    "typing.get_args(_tp_)[¶](#typing.get_args) Get type arguments with all substitutions performed: for a typing object of the form `X[Y, Z, ...]` return `(Y, Z, ...)`. If `X` is a union or [Literal](#typing.Literal) contained in another generic type, the order of `(Y, Z, ...)` may be different from the order of the original arguments `[Y, Z, ...]` due to type caching. Return `()` for unsupported objects. Examples:\n"
   ]
  },
  {
   "cell_type": "code",
   "execution_count": null,
   "id": "b7065b17",
   "metadata": {},
   "outputs": [],
   "source": [
    "from typing import get_args\n",
    "\n",
    "\n",
    "assert get_args(int) == ()\n",
    "assert get_args(Dict[int, str]) == (int, str)\n",
    "assert get_args(Union[int, str]) == (int, str)"
   ]
  },
  {
   "cell_type": "markdown",
   "id": "3450cdb7",
   "metadata": {},
   "source": [
    "typing.is_typeddict(_tp_)[¶](#typing.is_typeddict) Check if a type is a [TypedDict](#typing.TypedDict). For example:\n"
   ]
  },
  {
   "cell_type": "code",
   "execution_count": null,
   "id": "8f4fa4df",
   "metadata": {},
   "outputs": [],
   "source": [
    "from typing import is_typeddict\n",
    "\n",
    "\n",
    "class Film(TypedDict):\n",
    "    title: str\n",
    "    year: int\n",
    "\n",
    "\n",
    "assert is_typeddict(Film)\n",
    "assert not is_typeddict(list | str)\n",
    "\n",
    "# TypedDict is a factory for creating typed dicts,\n",
    "# not a typed dict itself\n",
    "assert not is_typeddict(TypedDict)"
   ]
  },
  {
   "cell_type": "markdown",
   "id": "79464ad9",
   "metadata": {},
   "source": [
    "_class_ typing.ForwardRef[¶](#typing.ForwardRef) Class used for internal typing representation of string forward references. For example, `List[\"SomeClass\"]` is implicitly transformed into `List[ForwardRef(\"SomeClass\")]`. `ForwardRef` should not be instantiated by a user, but may be used by introspection tools.\n",
    "\n",
    "<div style=\"background-color: #e6d3a3; border-radius: 10px; padding: 20px; margin-top: 10px; margin-bottom: 10px\"><strong>Note</strong>\n",
    "\n",
    "<a href=\"https://peps.python.org/pep-0585/\">PEP 585</a> generic types such as <code>list[\"SomeClass\"]</code> will not be\n",
    "implicitly transformed into <code>list[ForwardRef(\"SomeClass\")]</code> and thus\n",
    "will not automatically resolve to <code>list[SomeClass]</code>.</div>\n"
   ]
  },
  {
   "cell_type": "markdown",
   "id": "c217a8da",
   "metadata": {},
   "source": [
    "# Constant[¶](#constant)typing.TYPE_CHECKING[¶](#typing.TYPE_CHECKING)\n",
    "\n",
    "A special constant that is assumed to be `True` by 3rd party static type checkers. It is `False` at runtime. Usage:\n"
   ]
  },
  {
   "cell_type": "code",
   "execution_count": null,
   "id": "818bfac3",
   "metadata": {},
   "outputs": [],
   "source": [
    "from typing import TYPE_CHECKING\n",
    "\n",
    "\n",
    "if TYPE_CHECKING:\n",
    "    import expensive_mod\n",
    "\n",
    "\n",
    "def fun(arg: \"expensive_mod.SomeType\") -> None:\n",
    "    local_var: expensive_mod.AnotherType = other_fun()"
   ]
  },
  {
   "cell_type": "markdown",
   "id": "9c715da7",
   "metadata": {},
   "source": [
    "The first type annotation must be enclosed in quotes, making it a \"forward reference\", to hide the `expensive_mod` reference from the interpreter runtime. Type annotations for local variables are not evaluated, so the second annotation does not need to be enclosed in quotes.\n",
    "\n",
    "<div style=\"background-color: #e6d3a3; border-radius: 10px; padding: 20px; margin-top: 10px; margin-bottom: 10px\"><strong>Note</strong>\n",
    "\n",
    "If <code>from <strong>future</strong> import annotations</code> is used,\n",
    "annotations are not evaluated at function definition time.\n",
    "Instead, they are stored as strings in <code>\n",
    "  <strong>annotations</strong>\n",
    "</code>.\n",
    "This makes it unnecessary to use quotes around the annotation\n",
    "(see <a href=\"https://peps.python.org/pep-0563/\">PEP 563</a>).</div>\n"
   ]
  },
  {
   "cell_type": "markdown",
   "id": "3d3189a8",
   "metadata": {},
   "source": [
    "# Deprecated aliases[¶](#deprecated-aliases)\n",
    "\n",
    "This module defines several deprecated aliases to pre-existing standard library classes. These were originally included in the typing module in order to support parameterizing these generic classes using `[]`. However, the aliases became redundant in Python 3.9 when the corresponding pre-existing classes were enhanced to support `[]` (see [PEP 585](https://peps.python.org/pep-0585/)). The redundant types are deprecated as of Python 3.9\\. However, while the aliases may be removed at some point, removal of these aliases is not currently planned. As such, no deprecation warnings are currently issued by the interpreter for these aliases. If at some point it is decided to remove these deprecated aliases, a deprecation warning will be issued by the interpreter for at least two releases prior to removal. The aliases are guaranteed to remain in the typing module without deprecation warnings until at least Python 3.14\\. Type checkers are encouraged to flag uses of the deprecated types if the program they are checking targets a minimum Python version of 3.9 or newer.\n",
    "\n",
    "## Aliases to built-in types[¶](#aliases-to-built-in-types)\n",
    "\n",
    "_class_ typing.Dict(_dict, MutableMapping[KT, VT]_)[¶](#typing.Dict) Deprecated alias to [dict](stdtypes.html#dict). Note that to annotate arguments, it is preferred to use an abstract collection type such as [Mapping](#typing.Mapping) rather than to use [dict](stdtypes.html#dict) or `typing.Dict`. This type can be used as follows:\n"
   ]
  },
  {
   "cell_type": "code",
   "execution_count": null,
   "id": "118df982",
   "metadata": {},
   "outputs": [],
   "source": [
    "def count_words(text: str) -> Dict[str, int]:\n",
    "    ..."
   ]
  },
  {
   "cell_type": "markdown",
   "id": "b2dab0bc",
   "metadata": {},
   "source": [
    "Deprecated since version 3.9: [builtins.dict](stdtypes.html#dict) now supports subscripting (`[]`). See [PEP 585](https://peps.python.org/pep-0585/) and [Generic Alias Type](stdtypes.html#types-genericalias).\n",
    "\n",
    "_class_ typing.List(_list, MutableSequence[T]_)[¶](#typing.List) Deprecated alias to [list](stdtypes.html#list). Note that to annotate arguments, it is preferred to use an abstract collection type such as [Sequence](#typing.Sequence) or [Iterable](#typing.Iterable) rather than to use [list](stdtypes.html#list) or `typing.List`. This type may be used as follows:\n"
   ]
  },
  {
   "cell_type": "code",
   "execution_count": null,
   "id": "93a3faa7",
   "metadata": {},
   "outputs": [],
   "source": [
    "from typing import List\n",
    "\n",
    "\n",
    "T = TypeVar(\"T\", int, float)\n",
    "\n",
    "\n",
    "def vec2(x: T, y: T) -> List[T]:\n",
    "    return [x, y]\n",
    "\n",
    "\n",
    "def keep_positives(vector: Sequence[T]) -> List[T]:\n",
    "    return [item for item in vector if item > 0]"
   ]
  },
  {
   "cell_type": "markdown",
   "id": "463e5c33",
   "metadata": {},
   "source": [
    "Deprecated since version 3.9: [builtins.list](stdtypes.html#list) now supports subscripting (`[]`). See [PEP 585](https://peps.python.org/pep-0585/) and [Generic Alias Type](stdtypes.html#types-genericalias).\n",
    "\n",
    "_class_ typing.Set(_set, MutableSet[T]_)[¶](#typing.Set) Deprecated alias to [builtins.set](stdtypes.html#set). Note that to annotate arguments, it is preferred to use an abstract collection type such as [AbstractSet](#typing.AbstractSet) rather than to use [set](stdtypes.html#set) or `typing.Set`.\n",
    "\n",
    "Deprecated since version 3.9: [builtins.set](stdtypes.html#set) now supports subscripting (`[]`). See [PEP 585](https://peps.python.org/pep-0585/) and [Generic Alias Type](stdtypes.html#types-genericalias).\n",
    "\n",
    "_class_ typing.FrozenSet(_frozenset, AbstractSet[T_co]_)[¶](#typing.FrozenSet) Deprecated alias to [builtins.frozenset](stdtypes.html#frozenset).\n",
    "\n",
    "Deprecated since version 3.9: [builtins.frozenset](stdtypes.html#frozenset) now supports subscripting (`[]`). See [PEP 585](https://peps.python.org/pep-0585/) and [Generic Alias Type](stdtypes.html#types-genericalias).\n",
    "\n",
    "typing.Tuple[¶](#typing.Tuple) Deprecated alias for [tuple](stdtypes.html#tuple). [tuple](stdtypes.html#tuple) and `Tuple` are special-cased in the type system; see [Annotating tuples](#annotating-tuples) for more details.\n",
    "\n",
    "Deprecated since version 3.9: [builtins.tuple](stdtypes.html#tuple) now supports subscripting (`[]`). See [PEP 585](https://peps.python.org/pep-0585/) and [Generic Alias Type](stdtypes.html#types-genericalias).\n",
    "\n",
    "_class_ typing.Type(_Generic[CT_co]_)[¶](#typing.Type) Deprecated alias to [type](functions.html#type). See [The type of class objects](#type-of-class-objects) for details on using [type](functions.html#type) or `typing.Type` in type annotations.\n",
    "\n",
    "New in version 3.5.2.\n",
    "\n",
    "Deprecated since version 3.9: [builtins.type](functions.html#type) now supports subscripting (`[]`). See [PEP 585](https://peps.python.org/pep-0585/) and [Generic Alias Type](stdtypes.html#types-genericalias).\n",
    "\n",
    "# Aliases to types in [collections](collections.html#module-collections)[¶](#aliases-to-types-in-collections)\n",
    "\n",
    "_class_ typing.DefaultDict(_collections.defaultdict, MutableMapping[KT, VT]_)[¶](#typing.DefaultDict) Deprecated alias to [collections.defaultdict](collections.html#collections.defaultdict).\n",
    "\n",
    "New in version 3.5.2.\n",
    "\n",
    "Deprecated since version 3.9: [collections.defaultdict](collections.html#collections.defaultdict) now supports subscripting (`[]`). See [PEP 585](https://peps.python.org/pep-0585/) and [Generic Alias Type](stdtypes.html#types-genericalias).\n",
    "\n",
    "_class_ typing.OrderedDict(_collections.OrderedDict, MutableMapping[KT, VT]_)[¶](#typing.OrderedDict) Deprecated alias to [collections.OrderedDict](collections.html#collections.OrderedDict).\n",
    "\n",
    "New in version 3.7.2.\n",
    "\n",
    "Deprecated since version 3.9: [collections.OrderedDict](collections.html#collections.OrderedDict) now supports subscripting (`[]`). See [PEP 585](https://peps.python.org/pep-0585/) and [Generic Alias Type](stdtypes.html#types-genericalias).\n",
    "\n",
    "_class_ typing.ChainMap(_collections.ChainMap, MutableMapping[KT, VT]_)[¶](#typing.ChainMap) Deprecated alias to [collections.ChainMap](collections.html#collections.ChainMap).\n",
    "\n",
    "New in version 3.5.4.\n",
    "\n",
    "New in version 3.6.1.\n",
    "\n",
    "Deprecated since version 3.9: [collections.ChainMap](collections.html#collections.ChainMap) now supports subscripting (`[]`). See [PEP 585](https://peps.python.org/pep-0585/) and [Generic Alias Type](stdtypes.html#types-genericalias).\n",
    "\n",
    "_class_ typing.Counter(_collections.Counter, Dict[T, int]_)[¶](#typing.Counter) Deprecated alias to [collections.Counter](collections.html#collections.Counter).\n",
    "\n",
    "New in version 3.5.4.\n",
    "\n",
    "New in version 3.6.1.\n",
    "\n",
    "Deprecated since version 3.9: [collections.Counter](collections.html#collections.Counter) now supports subscripting (`[]`). See [PEP 585](https://peps.python.org/pep-0585/) and [Generic Alias Type](stdtypes.html#types-genericalias).\n",
    "\n",
    "_class_ typing.Deque(_deque, MutableSequence[T]_)[¶](#typing.Deque) Deprecated alias to [collections.deque](collections.html#collections.deque).\n",
    "\n",
    "New in version 3.5.4.\n",
    "\n",
    "New in version 3.6.1.\n",
    "\n",
    "Deprecated since version 3.9: [collections.deque](collections.html#collections.deque) now supports subscripting (`[]`). See [PEP 585](https://peps.python.org/pep-0585/) and [Generic Alias Type](stdtypes.html#types-genericalias).\n",
    "\n",
    "# Aliases to other concrete types[¶](#aliases-to-other-concrete-types)\n",
    "\n",
    "_class_ typing.Pattern[¶](#typing.Pattern)\n",
    "\n",
    "_class_ typing.Match[¶](#typing.Match) Deprecated aliases corresponding to the return types from [re.compile()](re.html#re.compile) and [re.match()](re.html#re.match). These types (and the corresponding functions) are generic over [AnyStr](#typing.AnyStr). `Pattern` can be specialised as `Pattern[str]` or `Pattern[bytes]`; `Match` can be specialised as `Match[str]` or `Match[bytes]`.\n",
    "\n",
    "Deprecated since version 3.8, will be removed in version 3.13: The `typing.re` namespace is deprecated and will be removed. These types should be directly imported from `typing` instead.\n",
    "\n",
    "Deprecated since version 3.9: Classes `Pattern` and `Match` from [re](re.html#module-re) now support `[]`. See [PEP 585](https://peps.python.org/pep-0585/) and [Generic Alias Type](stdtypes.html#types-genericalias).\n",
    "\n",
    "_class_ typing.Text[¶](#typing.Text) Deprecated alias for [str](stdtypes.html#str). `Text` is provided to supply a forward compatible path for Python 2 code: in Python 2, `Text` is an alias for `unicode`. Use `Text` to indicate that a value must contain a unicode string in a manner that is compatible with both Python 2 and Python 3:\n"
   ]
  },
  {
   "cell_type": "code",
   "execution_count": null,
   "id": "520de0ab",
   "metadata": {},
   "outputs": [],
   "source": [
    "from typing import Text\n",
    "\n",
    "\n",
    "def add_unicode_checkmark(text: Text) -> Text:\n",
    "    return text + \" \\u2713\""
   ]
  },
  {
   "cell_type": "markdown",
   "id": "a9682773",
   "metadata": {},
   "source": [
    "New in version 3.5.2.\n",
    "\n",
    "Deprecated since version 3.11: Python 2 is no longer supported, and most type checkers also no longer support type checking Python 2 code. Removal of the alias is not currently planned, but users are encouraged to use [str](stdtypes.html#str) instead of `Text`.\n",
    "\n",
    "# Aliases to container ABCs in [collections.abc](collections.abc.html#module-collections.abc)[¶](#aliases-to-container-abcs-in-collections-abc)\n",
    "\n",
    "_class_ typing.AbstractSet(_Collection[T_co]_)[¶](#typing.AbstractSet) Deprecated alias to [collections.abc.Set](collections.abc.html#collections.abc.Set).\n",
    "\n",
    "Deprecated since version 3.9: [collections.abc.Set](collections.abc.html#collections.abc.Set) now supports subscripting (`[]`). See [PEP 585](https://peps.python.org/pep-0585/) and [Generic Alias Type](stdtypes.html#types-genericalias).\n",
    "\n",
    "_class_ typing.ByteString(_Sequence[int]_)[¶](#typing.ByteString) This type represents the types [bytes](stdtypes.html#bytes), [bytearray](stdtypes.html#bytearray), and [memoryview](stdtypes.html#memoryview) of byte sequences.\n",
    "\n",
    "Deprecated since version 3.9, will be removed in version 3.14: Prefer `typing_extensions.Buffer`, or a union like `bytes | bytearray | memoryview`.\n",
    "\n",
    "_class_ typing.Collection(_Sized, Iterable[T_co], Container[T_co]_)[¶](#typing.Collection) Deprecated alias to [collections.abc.Collection](collections.abc.html#collections.abc.Collection).\n",
    "\n",
    "New in version 3.6.0.\n",
    "\n",
    "Deprecated since version 3.9: [collections.abc.Collection](collections.abc.html#collections.abc.Collection) now supports subscripting (`[]`). See [PEP 585](https://peps.python.org/pep-0585/) and [Generic Alias Type](stdtypes.html#types-genericalias).\n",
    "\n",
    "_class_ typing.Container(_Generic[T_co]_)[¶](#typing.Container) Deprecated alias to [collections.abc.Container](collections.abc.html#collections.abc.Container).\n",
    "\n",
    "Deprecated since version 3.9: [collections.abc.Container](collections.abc.html#collections.abc.Container) now supports subscripting (`[]`). See [PEP 585](https://peps.python.org/pep-0585/) and [Generic Alias Type](stdtypes.html#types-genericalias).\n",
    "\n",
    "_class_ typing.ItemsView(_MappingView, AbstractSet[tuple[KT_co, VT_co]]_)[¶](#typing.ItemsView) Deprecated alias to [collections.abc.ItemsView](collections.abc.html#collections.abc.ItemsView).\n",
    "\n",
    "Deprecated since version 3.9: [collections.abc.ItemsView](collections.abc.html#collections.abc.ItemsView) now supports subscripting (`[]`). See [PEP 585](https://peps.python.org/pep-0585/) and [Generic Alias Type](stdtypes.html#types-genericalias).\n",
    "\n",
    "_class_ typing.KeysView(_MappingView, AbstractSet[KT_co]_)[¶](#typing.KeysView) Deprecated alias to [collections.abc.KeysView](collections.abc.html#collections.abc.KeysView).\n",
    "\n",
    "Deprecated since version 3.9: [collections.abc.KeysView](collections.abc.html#collections.abc.KeysView) now supports subscripting (`[]`). See [PEP 585](https://peps.python.org/pep-0585/) and [Generic Alias Type](stdtypes.html#types-genericalias).\n",
    "\n",
    "_class_ typing.Mapping(_Collection[KT], Generic[KT, VT_co]_)[¶](#typing.Mapping) Deprecated alias to [collections.abc.Mapping](collections.abc.html#collections.abc.Mapping). This type can be used as follows:\n"
   ]
  },
  {
   "cell_type": "code",
   "execution_count": null,
   "id": "b7068214",
   "metadata": {},
   "outputs": [],
   "source": [
    "def get_position_in_index(word_list: Mapping[str, int], word: str) -> int:\n",
    "    return word_list[word]"
   ]
  },
  {
   "cell_type": "markdown",
   "id": "3c5eb5ed",
   "metadata": {},
   "source": [
    "Deprecated since version 3.9: [collections.abc.Mapping](collections.abc.html#collections.abc.Mapping) now supports subscripting (`[]`). See [PEP 585](https://peps.python.org/pep-0585/) and [Generic Alias Type](stdtypes.html#types-genericalias).\n",
    "\n",
    "_class_ typing.MappingView(_Sized_)[¶](#typing.MappingView) Deprecated alias to [collections.abc.MappingView](collections.abc.html#collections.abc.MappingView).\n",
    "\n",
    "Deprecated since version 3.9: [collections.abc.MappingView](collections.abc.html#collections.abc.MappingView) now supports subscripting (`[]`). See [PEP 585](https://peps.python.org/pep-0585/) and [Generic Alias Type](stdtypes.html#types-genericalias).\n",
    "\n",
    "_class_ typing.MutableMapping(_Mapping[KT, VT]_)[¶](#typing.MutableMapping) Deprecated alias to [collections.abc.MutableMapping](collections.abc.html#collections.abc.MutableMapping).\n",
    "\n",
    "Deprecated since version 3.9: [collections.abc.MutableMapping](collections.abc.html#collections.abc.MutableMapping) now supports subscripting (`[]`). See [PEP 585](https://peps.python.org/pep-0585/) and [Generic Alias Type](stdtypes.html#types-genericalias).\n",
    "\n",
    "_class_ typing.MutableSequence(_Sequence[T]_)[¶](#typing.MutableSequence) Deprecated alias to [collections.abc.MutableSequence](collections.abc.html#collections.abc.MutableSequence).\n",
    "\n",
    "Deprecated since version 3.9: [collections.abc.MutableSequence](collections.abc.html#collections.abc.MutableSequence) now supports subscripting (`[]`). See [PEP 585](https://peps.python.org/pep-0585/) and [Generic Alias Type](stdtypes.html#types-genericalias).\n",
    "\n",
    "_class_ typing.MutableSet(_AbstractSet[T]_)[¶](#typing.MutableSet) Deprecated alias to [collections.abc.MutableSet](collections.abc.html#collections.abc.MutableSet).\n",
    "\n",
    "Deprecated since version 3.9: [collections.abc.MutableSet](collections.abc.html#collections.abc.MutableSet) now supports subscripting (`[]`). See [PEP 585](https://peps.python.org/pep-0585/) and [Generic Alias Type](stdtypes.html#types-genericalias).\n",
    "\n",
    "_class_ typing.Sequence(_Reversible[T_co], Collection[T_co]_)[¶](#typing.Sequence) Deprecated alias to [collections.abc.Sequence](collections.abc.html#collections.abc.Sequence).\n",
    "\n",
    "Deprecated since version 3.9: [collections.abc.Sequence](collections.abc.html#collections.abc.Sequence) now supports subscripting (`[]`). See [PEP 585](https://peps.python.org/pep-0585/) and [Generic Alias Type](stdtypes.html#types-genericalias).\n",
    "\n",
    "_class_ typing.ValuesView(_MappingView, Collection[_VT_co]_)[¶](#typing.ValuesView) Deprecated alias to [collections.abc.ValuesView](collections.abc.html#collections.abc.ValuesView).\n",
    "\n",
    "Deprecated since version 3.9: [collections.abc.ValuesView](collections.abc.html#collections.abc.ValuesView) now supports subscripting (`[]`). See [PEP 585](https://peps.python.org/pep-0585/) and [Generic Alias Type](stdtypes.html#types-genericalias).\n",
    "\n",
    "# Aliases to asynchronous ABCs in [collections.abc](collections.abc.html#module-collections.abc)[¶](#aliases-to-asynchronous-abcs-in-collections-abc)\n",
    "\n",
    "_class_ typing.Coroutine(_Awaitable[ReturnType], Generic[YieldType, SendType, ReturnType]_)[¶](#typing.Coroutine) Deprecated alias to [collections.abc.Coroutine](collections.abc.html#collections.abc.Coroutine). The variance and order of type variables correspond to those of [Generator](#typing.Generator), for example:\n"
   ]
  },
  {
   "cell_type": "code",
   "execution_count": null,
   "id": "024c5b19",
   "metadata": {},
   "outputs": [],
   "source": [
    "from collections.abc import Coroutine\n",
    "\n",
    "c: Coroutine[list[str], str, int]  # Some coroutine defined elsewhere\n",
    "x = c.send(\"hi\")  # Inferred type of 'x' is list[str]\n",
    "\n",
    "\n",
    "async def bar() -> None:\n",
    "    y = await c  # Inferred type of 'y' is int"
   ]
  },
  {
   "cell_type": "markdown",
   "id": "e61987dd",
   "metadata": {},
   "source": [
    "New in version 3.5.3.\n",
    "\n",
    "Deprecated since version 3.9: [collections.abc.Coroutine](collections.abc.html#collections.abc.Coroutine) now supports subscripting (`[]`). See [PEP 585](https://peps.python.org/pep-0585/) and [Generic Alias Type](stdtypes.html#types-genericalias).\n",
    "\n",
    "_class_ typing.AsyncGenerator(_AsyncIterator[YieldType], Generic[YieldType, SendType]_)[¶](#typing.AsyncGenerator) Deprecated alias to [collections.abc.AsyncGenerator](collections.abc.html#collections.abc.AsyncGenerator). An async generator can be annotated by the generic type `AsyncGenerator[YieldType, SendType]`. For example:\n"
   ]
  },
  {
   "cell_type": "code",
   "execution_count": null,
   "id": "241742a6",
   "metadata": {},
   "outputs": [],
   "source": [
    "from typing import AsyncGenerator\n",
    "\n",
    "\n",
    "async def echo_round() -> AsyncGenerator[int, float]:\n",
    "    sent = yield 0\n",
    "    while sent >= 0.0:\n",
    "        rounded = await round(sent)\n",
    "        sent = yield rounded"
   ]
  },
  {
   "cell_type": "markdown",
   "id": "863a55b8",
   "metadata": {},
   "source": [
    "Unlike normal generators, async generators cannot return a value, so there is no `ReturnType` type parameter. As with [Generator](#typing.Generator), the `SendType` behaves contravariantly. If your generator will only yield values, set the `SendType` to `None`:\n"
   ]
  },
  {
   "cell_type": "code",
   "execution_count": null,
   "id": "66b47984",
   "metadata": {},
   "outputs": [],
   "source": [
    "async def infinite_stream(start: int) -> AsyncGenerator[int, None]:\n",
    "    while True:\n",
    "        yield start\n",
    "        start = await increment(start)"
   ]
  },
  {
   "cell_type": "markdown",
   "id": "0f30102e",
   "metadata": {},
   "source": [
    "Alternatively, annotate your generator as having a return type of either `AsyncIterable[YieldType]` or `AsyncIterator[YieldType]`:\n"
   ]
  },
  {
   "cell_type": "code",
   "execution_count": null,
   "id": "9b248a6e",
   "metadata": {},
   "outputs": [],
   "source": [
    "from typing import AsyncIterator\n",
    "\n",
    "\n",
    "async def infinite_stream(start: int) -> AsyncIterator[int]:\n",
    "    while True:\n",
    "        yield start\n",
    "        start = await increment(start)"
   ]
  },
  {
   "cell_type": "markdown",
   "id": "28b6c687",
   "metadata": {},
   "source": [
    "New in version 3.6.1.\n",
    "\n",
    "Deprecated since version 3.9: [collections.abc.AsyncGenerator](collections.abc.html#collections.abc.AsyncGenerator) now supports subscripting (`[]`). See [PEP 585](https://peps.python.org/pep-0585/) and [Generic Alias Type](stdtypes.html#types-genericalias).\n",
    "\n",
    "_class_ typing.AsyncIterable(_Generic[T_co]_)[¶](#typing.AsyncIterable) Deprecated alias to [collections.abc.AsyncIterable](collections.abc.html#collections.abc.AsyncIterable).\n",
    "\n",
    "New in version 3.5.2.\n",
    "\n",
    "Deprecated since version 3.9: [collections.abc.AsyncIterable](collections.abc.html#collections.abc.AsyncIterable) now supports subscripting (`[]`). See [PEP 585](https://peps.python.org/pep-0585/) and [Generic Alias Type](stdtypes.html#types-genericalias).\n",
    "\n",
    "_class_ typing.AsyncIterator(_AsyncIterable[T_co]_)[¶](#typing.AsyncIterator) Deprecated alias to [collections.abc.AsyncIterator](collections.abc.html#collections.abc.AsyncIterator).\n",
    "\n",
    "New in version 3.5.2.\n",
    "\n",
    "Deprecated since version 3.9: [collections.abc.AsyncIterator](collections.abc.html#collections.abc.AsyncIterator) now supports subscripting (`[]`). See [PEP 585](https://peps.python.org/pep-0585/) and [Generic Alias Type](stdtypes.html#types-genericalias).\n",
    "\n",
    "_class_ typing.Awaitable(_Generic[T_co]_)[¶](#typing.Awaitable) Deprecated alias to [collections.abc.Awaitable](collections.abc.html#collections.abc.Awaitable).\n",
    "\n",
    "New in version 3.5.2.\n",
    "\n",
    "Deprecated since version 3.9: [collections.abc.Awaitable](collections.abc.html#collections.abc.Awaitable) now supports subscripting (`[]`). See [PEP 585](https://peps.python.org/pep-0585/) and [Generic Alias Type](stdtypes.html#types-genericalias).\n",
    "\n",
    "# Aliases to other ABCs in [collections.abc](collections.abc.html#module-collections.abc)[¶](#aliases-to-other-abcs-in-collections-abc)\n",
    "\n",
    "_class_ typing.Iterable(_Generic[T_co]_)[¶](#typing.Iterable) Deprecated alias to [collections.abc.Iterable](collections.abc.html#collections.abc.Iterable).\n",
    "\n",
    "Deprecated since version 3.9: [collections.abc.Iterable](collections.abc.html#collections.abc.Iterable) now supports subscripting (`[]`). See [PEP 585](https://peps.python.org/pep-0585/) and [Generic Alias Type](stdtypes.html#types-genericalias).\n",
    "\n",
    "_class_ typing.Iterator(_Iterable[T_co]_)[¶](#typing.Iterator) Deprecated alias to [collections.abc.Iterator](collections.abc.html#collections.abc.Iterator).\n",
    "\n",
    "Deprecated since version 3.9: [collections.abc.Iterator](collections.abc.html#collections.abc.Iterator) now supports subscripting (`[]`). See [PEP 585](https://peps.python.org/pep-0585/) and [Generic Alias Type](stdtypes.html#types-genericalias).\n",
    "\n",
    "typing.Callable[¶](#typing.Callable) Deprecated alias to [collections.abc.Callable](collections.abc.html#collections.abc.Callable). See [Annotating callable objects](#annotating-callables) for details on how to use [collections.abc.Callable](collections.abc.html#collections.abc.Callable) and `typing.Callable` in type annotations.\n",
    "\n",
    "Deprecated since version 3.9: [collections.abc.Callable](collections.abc.html#collections.abc.Callable) now supports subscripting (`[]`). See [PEP 585](https://peps.python.org/pep-0585/) and [Generic Alias Type](stdtypes.html#types-genericalias).\n",
    "\n",
    "Changed in version 3.10: `Callable` now supports [ParamSpec](#typing.ParamSpec) and [Concatenate](#typing.Concatenate). See [PEP 612](https://peps.python.org/pep-0612/) for more details.\n",
    "\n",
    "_class_ typing.Generator(_Iterator[YieldType], Generic[YieldType, SendType, ReturnType]_)[¶](#typing.Generator) Deprecated alias to [collections.abc.Generator](collections.abc.html#collections.abc.Generator). A generator can be annotated by the generic type `Generator[YieldType, SendType, ReturnType]`. For example:\n"
   ]
  },
  {
   "cell_type": "code",
   "execution_count": null,
   "id": "fe1d873a",
   "metadata": {},
   "outputs": [],
   "source": [
    "from typing import Generator\n",
    "\n",
    "\n",
    "def echo_round() -> Generator[int, float, str]:\n",
    "    sent = yield 0\n",
    "    while sent >= 0:\n",
    "        sent = yield round(sent)\n",
    "    return \"Done\""
   ]
  },
  {
   "cell_type": "markdown",
   "id": "82eafeed",
   "metadata": {},
   "source": [
    "Note that unlike many other generics in the typing module, the `SendType` of [Generator](#typing.Generator) behaves contravariantly, not covariantly or invariantly. If your generator will only yield values, set the `SendType` and `ReturnType` to `None`:\n"
   ]
  },
  {
   "cell_type": "code",
   "execution_count": null,
   "id": "c036076b",
   "metadata": {},
   "outputs": [],
   "source": [
    "def infinite_stream(start: int) -> Generator[int, None, None]:\n",
    "    while True:\n",
    "        yield start\n",
    "        start += 1"
   ]
  },
  {
   "cell_type": "markdown",
   "id": "abfbae69",
   "metadata": {},
   "source": [
    "Alternatively, annotate your generator as having a return type of either `Iterable[YieldType]` or `Iterator[YieldType]`:\n"
   ]
  },
  {
   "cell_type": "code",
   "execution_count": null,
   "id": "46945371",
   "metadata": {},
   "outputs": [],
   "source": [
    "def infinite_stream(start: int) -> Iterator[int]:\n",
    "    while True:\n",
    "        yield start\n",
    "        start += 1"
   ]
  },
  {
   "cell_type": "markdown",
   "id": "88877f3a",
   "metadata": {},
   "source": [
    "Deprecated since version 3.9: [collections.abc.Generator](collections.abc.html#collections.abc.Generator) now supports subscripting (`[]`). See [PEP 585](https://peps.python.org/pep-0585/) and [Generic Alias Type](stdtypes.html#types-genericalias).\n",
    "\n",
    "_class_ typing.Hashable[¶](#typing.Hashable) Alias to [collections.abc.Hashable](collections.abc.html#collections.abc.Hashable).\n",
    "\n",
    "_class_ typing.Reversible(_Iterable[T_co]_)[¶](#typing.Reversible) Deprecated alias to [collections.abc.Reversible](collections.abc.html#collections.abc.Reversible).\n",
    "\n",
    "Deprecated since version 3.9: [collections.abc.Reversible](collections.abc.html#collections.abc.Reversible) now supports subscripting (`[]`). See [PEP 585](https://peps.python.org/pep-0585/) and [Generic Alias Type](stdtypes.html#types-genericalias).\n",
    "\n",
    "_class_ typing.Sized[¶](#typing.Sized) Alias to [collections.abc.Sized](collections.abc.html#collections.abc.Sized).\n",
    "\n",
    "# Aliases to [contextlib](contextlib.html#module-contextlib) ABCs[¶](#aliases-to-contextlib-abcs)\n",
    "\n",
    "_class_ typing.ContextManager(_Generic[T_co]_)[¶](#typing.ContextManager) Deprecated alias to [contextlib.AbstractContextManager](contextlib.html#contextlib.AbstractContextManager).\n",
    "\n",
    "New in version 3.5.4.\n",
    "\n",
    "New in version 3.6.0.\n",
    "\n",
    "Deprecated since version 3.9: [contextlib.AbstractContextManager](contextlib.html#contextlib.AbstractContextManager) now supports subscripting (`[]`). See [PEP 585](https://peps.python.org/pep-0585/) and [Generic Alias Type](stdtypes.html#types-genericalias).\n",
    "\n",
    "_class_ typing.AsyncContextManager(_Generic[T_co]_)[¶](#typing.AsyncContextManager) Deprecated alias to [contextlib.AbstractAsyncContextManager](contextlib.html#contextlib.AbstractAsyncContextManager).\n",
    "\n",
    "New in version 3.5.4.\n",
    "\n",
    "New in version 3.6.2.\n",
    "\n",
    "Deprecated since version 3.9: [contextlib.AbstractAsyncContextManager](contextlib.html#contextlib.AbstractAsyncContextManager) now supports subscripting (`[]`). See [PEP 585](https://peps.python.org/pep-0585/) and [Generic Alias Type](stdtypes.html#types-genericalias).\n",
    "\n",
    "## Deprecation Timeline of Major Features[¶](#deprecation-timeline-of-major-features)\n",
    "\n",
    "Certain features in `typing` are deprecated and may be removed in a future version of Python. The following table summarizes major deprecations for your convenience. This is subject to change, and not all deprecations are listed.\n",
    "\n",
    "Feature Deprecated in Projected removal PEP/issue\n",
    "\n",
    "`typing.io` and `typing.re` submodules 3.8 3.13 [bpo-38291](https://bugs.python.org/issue?@action=redirect&bpo=38291)\n",
    "\n",
    "`typing` versions of standard collections 3.9 Undecided (see [Deprecated aliases](#deprecated-typing-aliases) for more information) [PEP 585](https://peps.python.org/pep-0585/)\n",
    "\n",
    "[typing.ByteString](#typing.ByteString) 3.9 3.14 [gh-91896](https://github.com/python/cpython/issues/91896)\n",
    "\n",
    "[typing.Text](#typing.Text) 3.11 Undecided [gh-92332](https://github.com/python/cpython/issues/92332)\n"
   ]
  }
 ],
 "metadata": {
  "kernelspec": {
   "display_name": ".venv",
   "language": "python",
   "name": "python3"
  },
  "language_info": {
   "codemirror_mode": {
    "name": "ipython",
    "version": 3
   },
   "file_extension": ".py",
   "mimetype": "text/x-python",
   "name": "python",
   "nbconvert_exporter": "python",
   "pygments_lexer": "ipython3",
   "version": "3.11.4"
  }
 },
 "nbformat": 4,
 "nbformat_minor": 5
}
