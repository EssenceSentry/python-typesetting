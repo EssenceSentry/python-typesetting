{
 "cells": [
  {
   "cell_type": "markdown",
   "metadata": {},
   "source": [
    "# Callable objects\n"
   ]
  },
  {
   "cell_type": "markdown",
   "metadata": {},
   "source": [
    "# Callable\n"
   ]
  },
  {
   "cell_type": "code",
   "execution_count": 4,
   "metadata": {},
   "outputs": [],
   "source": [
    "from collections.abc import Awaitable, Callable, Coroutine\n",
    "from typing import reveal_type\n",
    "\n",
    "\n",
    "def feeder(\n",
    "    get_next_item: Callable[[], str],\n",
    ") -> None:\n",
    "    ...\n",
    "\n",
    "\n",
    "def async_query(\n",
    "    on_success: Callable[[], Awaitable[str]],\n",
    ") -> None:\n",
    "    ...\n",
    "\n",
    "\n",
    "async def on_update() -> str:\n",
    "    ...\n",
    "\n",
    "\n",
    "callback1: Callable[[], Coroutine[object, object, str]] = on_update\n",
    "callback2: Callable[[], Awaitable[str]] = on_update"
   ]
  },
  {
   "cell_type": "code",
   "execution_count": 5,
   "metadata": {},
   "outputs": [],
   "source": [
    "async_query(on_update)"
   ]
  },
  {
   "cell_type": "markdown",
   "metadata": {},
   "source": [
    "`Callable` subscription syntax must always be used with exactly two values\n"
   ]
  },
  {
   "cell_type": "code",
   "execution_count": 6,
   "metadata": {},
   "outputs": [],
   "source": [
    "x_ellipsis: Callable[..., str]  # Arbitrary argument list\n",
    "\n",
    "x_without_args: Callable[[], str]  # No arguments\n",
    "\n",
    "# Two arguments of type `int` and `str`\n",
    "x_int_str_args: Callable[[int, str], str]"
   ]
  },
  {
   "cell_type": "markdown",
   "metadata": {},
   "source": [
    "# `Callable` cannot express:\n",
    "\n",
    "- Functions that take a variadic number of arguments (but not arbitrary)\n",
    "- Overloaded functions\n",
    "- Functions that have keyword-only parameters\n"
   ]
  },
  {
   "cell_type": "markdown",
   "metadata": {},
   "source": [
    "# `Protocol`\n"
   ]
  },
  {
   "cell_type": "markdown",
   "metadata": {},
   "source": [
    "`Protocol` class with a `__call__()` method is able to handle those cases:\n"
   ]
  },
  {
   "cell_type": "code",
   "execution_count": null,
   "metadata": {},
   "outputs": [],
   "source": [
    "from collections.abc import Iterable\n",
    "from typing import Protocol\n",
    "\n",
    "\n",
    "class Combiner(Protocol):\n",
    "    # Combiner is a callable that takes a variadic number of bytes and an\n",
    "    # optional `maxlen` keyword-only argument\n",
    "    def __call__(\n",
    "        self,\n",
    "        *vals: bytes,\n",
    "        maxlen: int | None = None,\n",
    "    ) -> list[bytes]:\n",
    "        ...\n",
    "\n",
    "\n",
    "def combine(\n",
    "    data: Iterable[bytes],\n",
    "    combiner: Combiner,\n",
    ") -> list[bytes]:\n",
    "    return combiner(*list(data))\n",
    "\n",
    "\n",
    "def not_combiner_1(\n",
    "    *vals: bytes,\n",
    "    maxitems: int | None,  # `maxitems` is not an argument of `Combiner`\n",
    ") -> list[bytes]:\n",
    "    ...\n",
    "\n",
    "\n",
    "combine([], not_combiner_1)  # FAILS\n",
    "\n",
    "\n",
    "def not_combiner_2(\n",
    "    *vals: bytes,\n",
    "    maxlen: int\n",
    "    | None,  # `maxlen` is an argument of `Combiner`, but it is missing a default\n",
    ") -> list[bytes]:\n",
    "    ...\n",
    "\n",
    "\n",
    "combine([], not_combiner_2)  # FAILS\n",
    "\n",
    "\n",
    "def not_combiner_3(*vals: bytes) -> list[bytes]:  # `maxlen` is missing\n",
    "    ...\n",
    "\n",
    "\n",
    "combine([], not_combiner_3)  # FAILS\n",
    "\n",
    "\n",
    "def good_combiner(\n",
    "    *vals: bytes,\n",
    "    maxlen: int | None = 3,  # `maxlen` is a default argument of `Combiner`\n",
    ") -> list[bytes]:\n",
    "    ...\n",
    "\n",
    "\n",
    "combine([], good_combiner)  # OK"
   ]
  },
  {
   "cell_type": "code",
   "execution_count": null,
   "metadata": {},
   "outputs": [],
   "source": [
    "from collections.abc import Mapping, Sequence\n",
    "\n",
    "\n",
    "class Employee:\n",
    "    ...\n",
    "\n",
    "\n",
    "def notify_by_email(\n",
    "    employees: Sequence[Employee],\n",
    "    overrides: Mapping[str, str],\n",
    ") -> None:\n",
    "    ...\n",
    "\n",
    "\n",
    "def first_without_generics(l: Sequence):\n",
    "    return l[0]\n",
    "\n",
    "\n",
    "first_element = first_without_generics([1, 2, 3, 4])\n",
    "# (variable) first_element: Unknown"
   ]
  },
  {
   "cell_type": "code",
   "execution_count": 10,
   "metadata": {},
   "outputs": [],
   "source": [
    "from typing import TypeVar\n",
    "\n",
    "\n",
    "T = TypeVar(\"T\")  # Declare type variable \"T\"\n",
    "\n",
    "\n",
    "def first(l: Sequence[T]) -> T:\n",
    "    # Function is generic over the TypeVar \"T\"\n",
    "    return l[0]\n",
    "\n",
    "\n",
    "first_int = first([1, 2, 3, 4])  # (variable) first_int: int\n",
    "\n",
    "first_str = first([\"1\", \"2\", \"3\", \"4\"])  # (variable) first_str: str\n",
    "\n",
    "first_mixed = first([1, \"2\", 3, \"4\"])  # (variable) first_mixed: int | str"
   ]
  },
  {
   "cell_type": "code",
   "execution_count": null,
   "metadata": {},
   "outputs": [],
   "source": [
    "x: list[int] = []  # OK\n",
    "\n",
    "y: list[int] = [1, \"1\"]  # FAILS\n",
    "\n",
    "# `list` can accept only one type argument\n",
    "z: list[int, str] = [1, \"1\"]  # FAILS\n",
    "\n",
    "# Mapping can accept two type arguments\n",
    "m: Mapping[str, str | int] = {}"
   ]
  },
  {
   "cell_type": "markdown",
   "metadata": {},
   "source": [
    "`tuple` can accept several types in its annotation\n"
   ]
  },
  {
   "cell_type": "code",
   "execution_count": null,
   "metadata": {},
   "outputs": [],
   "source": [
    "t1: tuple[int, str] = (5, \"foo\")\n",
    "t2: tuple[int] = (5,)\n",
    "t3: tuple[int, str] = (5, \"foo\")\n",
    "\n",
    "f1: tuple[int] = (1, 2, 3)  # `c` is a `tuple` of ONE `int`\n",
    "\n",
    "t4: tuple[int, int, int] = (1, 2, 3)\n",
    "t5: tuple[int, ...] = (1, 2, 3)\n",
    "t6: tuple[int, ...] = ()\n",
    "\n",
    "# If we try to assign a tuple of different types, it fails:\n",
    "t4 = (\"1\", \"2\", \"3\")\n",
    "\n",
    "t4 = (4, 5, 6)\n",
    "t5 = (1, 2, 3)\n",
    "t5 = ()\n",
    "\n",
    "t6: tuple[()]\n",
    "t6 = (2, 3)\n",
    "t6 = ()"
   ]
  },
  {
   "cell_type": "markdown",
   "metadata": {},
   "source": [
    "# The type of class objects\n"
   ]
  },
  {
   "cell_type": "code",
   "execution_count": null,
   "metadata": {},
   "outputs": [],
   "source": [
    "i = 3  # Has type `int`\n",
    "I = int  # Has type `type[int]`\n",
    "II = type(I)  # Also has type `type[int]`"
   ]
  },
  {
   "cell_type": "markdown",
   "metadata": {},
   "source": [
    "`type[C]` is covariant: if `A` is a subtype of `B`, then `type[A]` is a subtype of `type[B]`\n"
   ]
  },
  {
   "cell_type": "code",
   "execution_count": null,
   "metadata": {},
   "outputs": [],
   "source": [
    "class User:\n",
    "    ...\n",
    "\n",
    "\n",
    "class BasicUser(User):\n",
    "    ...\n",
    "\n",
    "\n",
    "class ProUser(BasicUser):\n",
    "    ...\n",
    "\n",
    "\n",
    "def make_new_user(user_class: type[User]) -> User:\n",
    "    return user_class()\n",
    "\n",
    "\n",
    "make_new_user(User)\n",
    "make_new_user(ProUser)  # `type[ProUser]` is a subtype of `type[User]`\n",
    "make_new_user(BasicUser)\n",
    "make_new_user(User())  # expected `type[User]` but got `User`\n",
    "\n",
    "\n",
    "def return_pro_class_fail(user_class: type[User]) -> type[ProUser]:\n",
    "    # \"type[User]\" is incompatible with \"type[ProUser]\"\n",
    "    return user_class if type(user_class) is type[ProUser] else ProUser\n",
    "\n",
    "\n",
    "def return_pro_class_ok(user_class: type[User]) -> type[ProUser]:\n",
    "    return ProUser"
   ]
  },
  {
   "cell_type": "code",
   "execution_count": null,
   "metadata": {},
   "outputs": [],
   "source": [
    "# Parameter `user_class` accepts subclasses of `type[User]`\n",
    "a_user_class: type[ProUser] = return_pro_class_ok(BasicUser)\n",
    "b_user_class: type[ProUser] = return_pro_class_ok(ProUser)\n",
    "\n",
    "\n",
    "def return_class(user_class: T) -> T:\n",
    "    return user_class\n",
    "\n",
    "\n",
    "# Return type can be annotated with a superclass\n",
    "c_user_class: type[BasicUser] = return_class(BasicUser)\n",
    "d_user_class: type[BasicUser] = return_class(ProUser)\n",
    "basic_user: BasicUser = BasicUser()\n",
    "pro_user: ProUser = ProUser()\n",
    "# `type[A]` is covariant\n",
    "pro_user = basic_user\n",
    "# FAILS: `BasicUser` is not a subtype of `ProUser`, so it cannot be reassigned\n",
    "pro_user_class = basic_user_class\n",
    "# FAILS: `type[ProUser]` is not a subtype of `type[BasicUser]`, so it cannot\n",
    "# be reassigned\n",
    "basic_user = (\n",
    "    pro_user\n",
    "    # OK: `ProUser` is a subtype of `BasicUser`, so reassignment is allowed\n",
    ")\n",
    "basic_user_class = pro_user_class\n",
    "\n",
    "\n",
    "# OK: `type[BasicUser]` is a subtype of `type[ProUser]`, so reassignment is\n",
    "# allowed\n",
    "class TeamUser(User):\n",
    "    ...\n",
    "\n",
    "\n",
    "def new_non_team_user(user_class: type[BasicUser | ProUser]):\n",
    "    ...\n",
    "\n",
    "\n",
    "new_non_team_user(BasicUser)  # OK\n",
    "new_non_team_user(ProUser)  # OK\n",
    "new_non_team_user(TeamUser)\n",
    "# FAILS: Argument of type \"type[TeamUser]\" cannot be assigned to parameter\n",
    "# \"user_class\" of type \"type[BasicUser] | type[ProUser]\"\n",
    "new_non_team_user(User)  # Also an error\n",
    "\n",
    "\n",
    "# `type[Any]` is equivalent to `type`, which is the root of Python's metaclass\n",
    "# hierarchy.\n",
    "def is_class(object: type) -> bool:\n",
    "    return type(object) is type\n",
    "\n",
    "\n",
    "assert type is type[Any]"
   ]
  }
 ],
 "metadata": {
  "kernelspec": {
   "display_name": ".venv",
   "language": "python",
   "name": "python3"
  },
  "language_info": {
   "codemirror_mode": {
    "name": "ipython",
    "version": 3
   },
   "file_extension": ".py",
   "mimetype": "text/x-python",
   "name": "python",
   "nbconvert_exporter": "python",
   "pygments_lexer": "ipython3",
   "version": "3.11.4"
  }
 },
 "nbformat": 4,
 "nbformat_minor": 2
}
